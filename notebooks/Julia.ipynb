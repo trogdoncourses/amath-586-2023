{
 "cells": [
  {
   "cell_type": "markdown",
   "metadata": {},
   "source": [
    "## A (very) short Julia intro\n",
    "\n",
    "The code is written in [Julia](http://julialang.org).\n",
    "\n",
    "[Here is a tutorial](https://datatofish.com/add-julia-to-jupyter/) on getting up and running with it.\n",
    "\n",
    "I will use Julia for my demos. But if there is not a direct translation to Matlab or Python, I will try to provide sample code in the other languages.\n",
    "\n",
    "The syntax for Julia is very similar to Matlab and Python.  There are some important differences.  By default, Julia does not copy array when it is a function input:\n",
    "\n",
    "<em>In Julia, all arguments to functions are passed by reference. Some technical computing languages pass arrays by value, and this is convenient in many cases. In Julia, modifications made to input arrays within a function will be visible in the parent function. The entire Julia array library ensures that inputs are not modified by library functions. User code, if it needs to exhibit similar behaviour, should take care to create a copy of inputs that it may modify.</em>\n",
    "\n",
    "This saves significant memory but it can easily cause unexpected behavior."
   ]
  },
  {
   "cell_type": "code",
   "execution_count": null,
   "metadata": {},
   "outputs": [],
   "source": [
    "function test_fun!(A)\n",
    "    A[1,1] = 2*A[1,1]\n",
    "    return A\n",
    "end"
   ]
  },
  {
   "cell_type": "code",
   "execution_count": null,
   "metadata": {},
   "outputs": [],
   "source": [
    "A = [1 2 3; 4 5 6] # Integer array"
   ]
  },
  {
   "cell_type": "code",
   "execution_count": null,
   "metadata": {},
   "outputs": [],
   "source": [
    "test_fun!(A)"
   ]
  },
  {
   "cell_type": "code",
   "execution_count": null,
   "metadata": {},
   "outputs": [],
   "source": [
    "A # A has changed"
   ]
  },
  {
   "cell_type": "code",
   "execution_count": null,
   "metadata": {},
   "outputs": [],
   "source": [
    "A = [1 2 3; 4 5 6] # Integer array\n",
    "function test_fun2(A)\n",
    "    A = 2*A\n",
    "    return A\n",
    "end\n",
    "test_fun2(A)"
   ]
  },
  {
   "cell_type": "code",
   "execution_count": null,
   "metadata": {},
   "outputs": [],
   "source": [
    "A # A has not changed"
   ]
  },
  {
   "cell_type": "code",
   "execution_count": null,
   "metadata": {},
   "outputs": [],
   "source": [
    "A = [1 2 3; 4 5 6] # Integer array\n",
    "function test_fun3!(A)\n",
    "    A[:,1] = 2*A[:,1]\n",
    "    return A\n",
    "end\n",
    "test_fun3!(A)"
   ]
  },
  {
   "cell_type": "code",
   "execution_count": null,
   "metadata": {},
   "outputs": [],
   "source": [
    "A # A has changed"
   ]
  },
  {
   "cell_type": "code",
   "execution_count": null,
   "metadata": {},
   "outputs": [],
   "source": [
    "A = [1 2 3; 4 5 6] # Integer array\n",
    "function test_fun4!(A)\n",
    "    A[:,:] = 2*A[:,:]\n",
    "    return A\n",
    "end\n",
    "test_fun4!(A)"
   ]
  },
  {
   "cell_type": "code",
   "execution_count": null,
   "metadata": {},
   "outputs": [],
   "source": [
    "A # A has changed"
   ]
  },
  {
   "cell_type": "code",
   "execution_count": null,
   "metadata": {},
   "outputs": [],
   "source": [
    "A = [1 2 3; 4 5 6] # Integer array\n",
    "function test_fun5!(A)\n",
    "    A[:,:] *= 2\n",
    "    return A\n",
    "end\n",
    "test_fun5!(A)"
   ]
  },
  {
   "cell_type": "code",
   "execution_count": null,
   "metadata": {},
   "outputs": [],
   "source": [
    "A # A has changed"
   ]
  },
  {
   "cell_type": "markdown",
   "metadata": {},
   "source": [
    "Also, where Matlab has the `./` and `.*` operations, Julia has `./`,`.*`,`.-` and `.+` and the same for functions like absolute value: `abs(x)` for a scalar and `abs.(x)` for a vector or array.\n",
    "\n",
    "Julia also allows for you to use Greek characters:"
   ]
  },
  {
   "cell_type": "code",
   "execution_count": null,
   "metadata": {},
   "outputs": [],
   "source": [
    "α = 1."
   ]
  },
  {
   "cell_type": "markdown",
   "metadata": {},
   "source": [
    "To get the character type `\\alpha` and hit \"tab\".\n",
    "\n",
    "Julia is also very particular about types.  For example, Matlab would have no issue with `zeros(10.0,10.0)` and would create a 10 x 10 matrix.  Julia will throw an error."
   ]
  },
  {
   "cell_type": "code",
   "execution_count": null,
   "metadata": {},
   "outputs": [],
   "source": [
    "zeros(10,10)"
   ]
  }
 ],
 "metadata": {
  "kernelspec": {
   "display_name": "Julia 1.8.0-rc3",
   "language": "julia",
   "name": "julia-1.8"
  },
  "language_info": {
   "file_extension": ".jl",
   "mimetype": "application/julia",
   "name": "julia",
   "version": "1.8.0"
  }
 },
 "nbformat": 4,
 "nbformat_minor": 2
}
