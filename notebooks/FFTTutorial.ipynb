{
 "cells": [
  {
   "cell_type": "code",
   "execution_count": 1,
   "id": "c69ef0ee",
   "metadata": {},
   "outputs": [],
   "source": [
    "using FFTW, AbstractFFTs, Plots, LinearAlgebra, LaTeXStrings, SparseArrays, Printf\n",
    "import Base: diff, *"
   ]
  },
  {
   "cell_type": "code",
   "execution_count": 2,
   "id": "1c24cb75",
   "metadata": {},
   "outputs": [
    {
     "data": {
      "text/plain": [
       "#11 (generic function with 1 method)"
      ]
     },
     "execution_count": 2,
     "metadata": {},
     "output_type": "execute_result"
    }
   ],
   "source": [
    "rnd = xx -> map(x -> round(x, digits = 5),xx)\n",
    "mfftshift = x -> fftshift(x)\n",
    "mfft = x -> fftshift(fft(fftshift(x),1)) # fft(x,1) is used so that\n",
    "# when we operate on matrices below, the behavior is as desired.\n",
    "mifft = x -> mfftshift(ifft(mfftshift(x),1))\n",
    "L = pi\n",
    "agrid = n -> 2*L*(0:n-1)/n "
   ]
  },
  {
   "cell_type": "markdown",
   "id": "cdd1c38c",
   "metadata": {},
   "source": [
    "In ``Julia`` the default FFT is given by\n",
    "$$\n",
    "y_k = y_k(v) = \\sum_{j = 1}^N e^{ -  2 \\pi i(k-1)  \\frac{(j-1)}{N}} v_j, \\quad k = 1,\\ldots,N\n",
    "$$"
   ]
  },
  {
   "cell_type": "code",
   "execution_count": 3,
   "id": "714ce6b3",
   "metadata": {},
   "outputs": [
    {
     "data": {
      "text/plain": [
       "dft (generic function with 1 method)"
      ]
     },
     "execution_count": 3,
     "metadata": {},
     "output_type": "execute_result"
    }
   ],
   "source": [
    "function dft(v)\n",
    "    N = length(v)\n",
    "    y = zeros(ComplexF64,N)\n",
    "    for k = 1:N\n",
    "        y[k] = sum([ exp(-1im*2*pi*(n-1)*(k-1)/N)*v[n] for n=1:N  ])\n",
    "    end\n",
    "    y\n",
    "end"
   ]
  },
  {
   "cell_type": "code",
   "execution_count": 4,
   "id": "e4ed6f3d",
   "metadata": {},
   "outputs": [],
   "source": [
    "y = rand(11);"
   ]
  },
  {
   "cell_type": "code",
   "execution_count": 5,
   "id": "176979f2",
   "metadata": {
    "scrolled": true
   },
   "outputs": [
    {
     "data": {
      "text/plain": [
       "7.072690352160727e-15"
      ]
     },
     "execution_count": 5,
     "metadata": {},
     "output_type": "execute_result"
    }
   ],
   "source": [
    "dft(y) - fft(y) |> norm"
   ]
  },
  {
   "cell_type": "code",
   "execution_count": 6,
   "id": "7b2ba167",
   "metadata": {},
   "outputs": [],
   "source": [
    "y = rand(2^14+1);"
   ]
  },
  {
   "cell_type": "code",
   "execution_count": 7,
   "id": "ebb51630",
   "metadata": {},
   "outputs": [
    {
     "name": "stdout",
     "output_type": "stream",
     "text": [
      "  5.483725 seconds (32.77 k allocations: 4.002 GiB, 3.52% gc time)\n"
     ]
    }
   ],
   "source": [
    "@time dft(y);"
   ]
  },
  {
   "cell_type": "code",
   "execution_count": 59,
   "id": "7a962708",
   "metadata": {},
   "outputs": [
    {
     "name": "stdout",
     "output_type": "stream",
     "text": [
      "  0.075745 seconds (89.13 k allocations: 4.729 MiB, 99.60% compilation time)\n"
     ]
    }
   ],
   "source": [
    "@time fft!(y |> complex);"
   ]
  },
  {
   "cell_type": "code",
   "execution_count": 61,
   "id": "f7ed3ddd",
   "metadata": {},
   "outputs": [],
   "source": [
    "pfft = plan_fft!(y |> complex);"
   ]
  },
  {
   "cell_type": "code",
   "execution_count": 63,
   "id": "8c4e1a0c",
   "metadata": {
    "scrolled": true
   },
   "outputs": [
    {
     "name": "stdout",
     "output_type": "stream",
     "text": [
      "  0.000384 seconds (2 allocations: 256.047 KiB)\n"
     ]
    }
   ],
   "source": [
    "@time pfft*y;"
   ]
  },
  {
   "cell_type": "code",
   "execution_count": 13,
   "id": "60db32d8",
   "metadata": {},
   "outputs": [],
   "source": [
    "y = rand(2^14);"
   ]
  },
  {
   "cell_type": "code",
   "execution_count": 14,
   "id": "cd186fe7",
   "metadata": {},
   "outputs": [
    {
     "name": "stdout",
     "output_type": "stream",
     "text": [
      "  0.000306 seconds (29 allocations: 513.812 KiB)\n"
     ]
    }
   ],
   "source": [
    "@time fft(y);"
   ]
  },
  {
   "cell_type": "code",
   "execution_count": 15,
   "id": "0ac1b39c",
   "metadata": {},
   "outputs": [
    {
     "name": "stdout",
     "output_type": "stream",
     "text": [
      "  5.390780 seconds (32.77 k allocations: 4.001 GiB, 3.22% gc time)\n"
     ]
    }
   ],
   "source": [
    "@time dft(y);"
   ]
  },
  {
   "cell_type": "code",
   "execution_count": 16,
   "id": "ceb6a42c",
   "metadata": {},
   "outputs": [],
   "source": [
    "pfft = plan_fft(y);"
   ]
  },
  {
   "cell_type": "code",
   "execution_count": 18,
   "id": "6135b446",
   "metadata": {},
   "outputs": [
    {
     "name": "stdout",
     "output_type": "stream",
     "text": [
      "  0.000540 seconds (4 allocations: 512.094 KiB)\n"
     ]
    }
   ],
   "source": [
    "@time pfft*y;"
   ]
  },
  {
   "cell_type": "markdown",
   "id": "f3528678",
   "metadata": {},
   "source": [
    "Define the nodes $x_j = 2 \\pi (j-1)/N$.  Then\n",
    "\n",
    "\\begin{align*}\n",
    "    y_k = \\sum_{j=1}^N e^{- i (k-1) x_j} v_j.\n",
    "\\end{align*}"
   ]
  },
  {
   "cell_type": "markdown",
   "id": "6bca61a3",
   "metadata": {},
   "source": [
    "So, if $v_j = f(x_j)$, we have\n",
    "\\begin{align*}\n",
    "    y_k \\approx \\frac{N}{2 \\pi} \\int_0^{2 \\pi} e^{-i (k-1) x} f(x) dx.\n",
    "\\end{align*}"
   ]
  },
  {
   "cell_type": "markdown",
   "id": "0c5111ea",
   "metadata": {},
   "source": [
    "But we aim to have an approximation of\n",
    "\\begin{align*}\n",
    " \\check c_k(f) = \\frac{1}{N \\sqrt{2 \\pi}} \\sum_{\\ell =1}^N f(\\check x_\\ell) e^{-i j \\check x_\\ell},\n",
    "\\end{align*}\n",
    "of\n",
    "\\begin{align*}\n",
    "    c_k(f) = \\frac{1}{\\sqrt{2 \\pi}} \\int_{-\\pi}^\\pi e^{-i k x} f(x) dx, \\quad k = 0, \\pm 1, \\pm 2, \\ldots.\n",
    "\\end{align*}\n",
    "So we need to obtain both positive and negative frequencies.  "
   ]
  },
  {
   "cell_type": "markdown",
   "id": "06c48d6f",
   "metadata": {},
   "source": [
    "Note that for any $m \\in \\mathbb Z$\n",
    "\\begin{align*}\n",
    "    y_{k + m N} = \\sum_{j=1}^N e^{-i(k - 1)x_j} e^{-2 \\pi i m (j-1) }  v_j = y_k.\n",
    "\\end{align*}\n",
    "This is the aliasing we have seen.  Therefore, from the output of the FFT, we can compute $y_k$ for any range of successive $N$ values of $k$."
   ]
  },
  {
   "cell_type": "markdown",
   "id": "157fac20",
   "metadata": {},
   "source": [
    "Define integers $N_+$ and $N_-$ by\n",
    "\n",
    "$$ N_- = \\lfloor N/2 \\rfloor, \\quad N_+ = \\lfloor (N-1)/2 \\rfloor. $$"
   ]
  },
  {
   "cell_type": "code",
   "execution_count": 20,
   "id": "19bf740b",
   "metadata": {},
   "outputs": [
    {
     "data": {
      "text/plain": [
       "#21 (generic function with 1 method)"
      ]
     },
     "execution_count": 20,
     "metadata": {},
     "output_type": "execute_result"
    }
   ],
   "source": [
    "N₋ = N -> convert(Int64,floor(N/2))\n",
    "N₊ = N -> convert(Int64,floor((N-1)/2))"
   ]
  },
  {
   "cell_type": "markdown",
   "id": "e201b627",
   "metadata": {},
   "source": [
    "Next, supposing that $N$ is even, consider\n",
    "\\begin{align*}\n",
    "z_k = \\sum_{j=1}^N e^{- i (k-1) (x_j - \\pi)} v_j = \\sum_{j=1}^N e^{- i (k-1) ( 2 \\pi \\frac{j-1}{N} - \\pi)} v_j = \\sum_{j=1}^N e^{- 2\\pi i (k-1) \\left(\\frac{(j-1) - N/2}{N}\\right)}v_j.\n",
    "\\end{align*}"
   ]
  },
  {
   "cell_type": "markdown",
   "id": "89440dcf",
   "metadata": {},
   "source": [
    "Again, if $v_j = f(x_j-\\pi)$ this last sum can be seen to approximate\n",
    "$$\n",
    "\\frac{N}{2 \\pi} \\int_{-\\pi}^{\\pi} e^{-i (k-1) x} f(x) dx.\n",
    "$$"
   ]
  },
  {
   "cell_type": "markdown",
   "id": "e612ac09",
   "metadata": {},
   "source": [
    "We split this sum into two\n",
    "$$\n",
    "z_k = \\sum_{j = N/2 + 1}^N  e^{- 2\\pi i (k-1) \\left(\\frac{(j-1) - N/2}{N}\\right)}v_j + \\sum_{j = 1}^{N/2}  e^{- 2\\pi i (k-1) \\left(\\frac{(j-1) - N/2}{N}\\right)}v_j\n",
    "$$"
   ]
  },
  {
   "cell_type": "markdown",
   "id": "bd949b27",
   "metadata": {},
   "source": [
    "Then\n",
    "\\begin{align*}\n",
    "\\sum_{j = N/2 + 1}^N  e^{- 2\\pi i (k-1) \\left(\\frac{(j-1)}{N}\\right)}v_j = \\sum_{j = 1}^{N/2}  e^{- 2\\pi i (k-1) \\left(\\frac{j-1}{N}\\right)}v_{j+N/2}\n",
    "\\end{align*}"
   ]
  },
  {
   "cell_type": "markdown",
   "id": "c703cc95",
   "metadata": {},
   "source": [
    "$$\n",
    "\\sum_{j = 1}^{N/2}  e^{- 2\\pi i (k-1) \\left(\\frac{(j-1) - N/2}{N}\\right)}v_j = \\sum_{j = 1 + N/2}^{N}  e^{- 2\\pi i (k-1) \\left(\\frac{j-1}{N}\\right)}v_{j-N/2}\n",
    "$$"
   ]
  },
  {
   "cell_type": "markdown",
   "id": "27397c90",
   "metadata": {},
   "source": [
    "This leads us to introduce the ``fftshift`` $\\mathcal S$ for vectors of even length:\n",
    "\\begin{align*}\n",
    "\\mathcal S(v) = \\begin{bmatrix} v_{N/2 + 1} \\\\ v_{N/2 + 2} \\\\ \\vdots \\\\ v_{N} \\\\ v_{1} \\\\ v_{2} \\\\ \\dots \\\\ v_{N/2} \\end{bmatrix}.\n",
    "\\end{align*}"
   ]
  },
  {
   "cell_type": "code",
   "execution_count": 23,
   "id": "af629117",
   "metadata": {},
   "outputs": [
    {
     "data": {
      "text/plain": [
       "10-element Vector{Int64}:\n",
       "  6\n",
       "  7\n",
       "  8\n",
       "  9\n",
       " 10\n",
       "  1\n",
       "  2\n",
       "  3\n",
       "  4\n",
       "  5"
      ]
     },
     "execution_count": 23,
     "metadata": {},
     "output_type": "execute_result"
    }
   ],
   "source": [
    "fftshift(1:10)"
   ]
  },
  {
   "cell_type": "markdown",
   "id": "1506d4d0",
   "metadata": {},
   "source": [
    "And consider $y_k$ for $k = -N_-,-N_- +1, \\ldots, N_+$."
   ]
  },
  {
   "cell_type": "code",
   "execution_count": 49,
   "id": "a4dbd56b",
   "metadata": {},
   "outputs": [
    {
     "data": {
      "text/plain": [
       "10×2 Matrix{ComplexF64}:\n",
       " -1.13057-0.14587im  -5.0+0.0im\n",
       "   1.7364+0.82272im  -4.0+0.0im\n",
       " -6.45231-6.0914im   -3.0+0.0im\n",
       " -1.56635-2.86717im  -2.0+0.0im\n",
       "   0.2659+1.41429im  -1.0+0.0im\n",
       "  0.12599-0.97646im   0.0+0.0im\n",
       " -0.34613+0.73052im   1.0+0.0im\n",
       "  0.51332-0.54373im   2.0+0.0im\n",
       "  -0.6716+0.3669im    3.0+0.0im\n",
       "  0.85595-0.16093im   4.0+0.0im"
      ]
     },
     "execution_count": 49,
     "metadata": {},
     "output_type": "execute_result"
    }
   ],
   "source": [
    "N = 10\n",
    "f = x -> exp.(-4im*x)\n",
    "hcat( mfft(f(agrid(N))) |> rnd, -N₋(N):N₊(N))"
   ]
  },
  {
   "cell_type": "markdown",
   "id": "7b2ae5cd",
   "metadata": {},
   "source": [
    "Only correct for $N$ even"
   ]
  },
  {
   "cell_type": "code",
   "execution_count": 32,
   "id": "b26b3c25",
   "metadata": {},
   "outputs": [
    {
     "data": {
      "text/plain": [
       "11×2 Matrix{ComplexF64}:\n",
       "     0.0-0.0im      -5.0+0.0im\n",
       "    -0.0-0.0im      -4.0+0.0im\n",
       "     0.0+0.0im      -3.0+0.0im\n",
       "     0.0-0.0im      -2.0+0.0im\n",
       "     0.0-0.0im      -1.0+0.0im\n",
       "     0.0+0.0im       0.0+0.0im\n",
       "     0.0+0.0im       1.0+0.0im\n",
       " 9.25379+5.94705im   2.0+0.0im\n",
       "    -0.0-0.0im       3.0+0.0im\n",
       "    -0.0+0.0im       4.0+0.0im\n",
       "     0.0-0.0im       5.0+0.0im"
      ]
     },
     "execution_count": 32,
     "metadata": {},
     "output_type": "execute_result"
    }
   ],
   "source": [
    "N = 11\n",
    "f = x -> exp.(2im*x)\n",
    "hcat( mfft(f(agrid(N))) |> rnd, -N₋(N):N₊(N))"
   ]
  },
  {
   "cell_type": "markdown",
   "id": "c0caf019",
   "metadata": {},
   "source": [
    "Want to allow $N$ to be odd too (just in case) and shift intervals to be symmetric about the origin."
   ]
  },
  {
   "cell_type": "code",
   "execution_count": 33,
   "id": "7e575b65",
   "metadata": {},
   "outputs": [
    {
     "data": {
      "text/plain": [
       "#51 (generic function with 1 method)"
      ]
     },
     "execution_count": 33,
     "metadata": {},
     "output_type": "execute_result"
    }
   ],
   "source": [
    "rnd = xx -> map(x -> round(x, digits = 5),xx)\n",
    "mfftshift = x -> circshift(fftshift(x), isodd(length(x)) ? 1 : 0)\n",
    "mfft = x -> fftshift(fft(fftshift(x),1)) # fft(x,1) is used so that\n",
    "# when we operate on matrices below, the behavior is as desired.\n",
    "mifft = x -> mfftshift(ifft(mfftshift(x),1))\n",
    "mgrid = (n,L) -> -L .+ 2*L*(0:n-1)/n"
   ]
  },
  {
   "cell_type": "code",
   "execution_count": 34,
   "id": "960f2764",
   "metadata": {},
   "outputs": [
    {
     "data": {
      "text/plain": [
       "11×2 Matrix{ComplexF64}:\n",
       "     0.0+0.0im      -5.0+0.0im\n",
       "    -0.0+0.0im      -4.0+0.0im\n",
       "    -0.0+0.0im      -3.0+0.0im\n",
       " 9.25379-5.94705im  -2.0+0.0im\n",
       "     0.0+0.0im      -1.0+0.0im\n",
       "     0.0-0.0im       0.0+0.0im\n",
       "     0.0+0.0im       1.0+0.0im\n",
       "     0.0+0.0im       2.0+0.0im\n",
       "     0.0-0.0im       3.0+0.0im\n",
       "    -0.0+0.0im       4.0+0.0im\n",
       "     0.0+0.0im       5.0+0.0im"
      ]
     },
     "execution_count": 34,
     "metadata": {},
     "output_type": "execute_result"
    }
   ],
   "source": [
    "N = 11\n",
    "f = x -> exp.(-2im*x)\n",
    "hcat( mfft(f(mgrid(N,pi))) |> rnd, -N₋(N):N₊(N))"
   ]
  },
  {
   "cell_type": "code",
   "execution_count": 35,
   "id": "417533ab",
   "metadata": {},
   "outputs": [
    {
     "data": {
      "text/plain": [
       "#57 (generic function with 1 method)"
      ]
     },
     "execution_count": 35,
     "metadata": {},
     "output_type": "execute_result"
    }
   ],
   "source": [
    "N₋ = m -> convert(Int64,floor(m/2))\n",
    "N₊ = m -> convert(Int64,floor((m-1)/2))"
   ]
  },
  {
   "cell_type": "code",
   "execution_count": 36,
   "id": "3f0b63de",
   "metadata": {},
   "outputs": [],
   "source": [
    "struct trig_interp\n",
    "    L::Float64\n",
    "    c::Vector{Complex{Float64}}\n",
    "end\n",
    "\n",
    "function (tr::trig_interp)(x) # just sums the Fourier series!\n",
    "    m = length(tr.c)\n",
    "    mm = convert(Int64,floor( m/2 ))\n",
    "    σ = isodd(m) ? 1im*pi/m : 0. # if n is odd we need to rotate coefs\n",
    "    ex = exp.(-1im*pi*mm*x/tr.L + mm*σ)\n",
    "    ex1 = exp.(1im*pi*x/tr.L-σ)\n",
    "    sum = tr.c[1]*ex\n",
    "    for i = 2:length(tr.c)\n",
    "        ex  =  ex.*ex1\n",
    "        sum += tr.c[i]*ex\n",
    "    end\n",
    "    return sum/m\n",
    "end"
   ]
  },
  {
   "cell_type": "code",
   "execution_count": 38,
   "id": "9fc2b143",
   "metadata": {},
   "outputs": [],
   "source": [
    "L = 10.\n",
    "n = 51\n",
    "X = mgrid(n,L)\n",
    "f = x -> exp.(-cos.(pi*x/L))\n",
    "fm = trig_interp(L,mfft(f(X)));"
   ]
  },
  {
   "cell_type": "code",
   "execution_count": 39,
   "id": "9eef10bb",
   "metadata": {},
   "outputs": [
    {
     "data": {
      "text/plain": [
       "0.36951573142447347 + 9.327354331102689e-17im"
      ]
     },
     "execution_count": 39,
     "metadata": {},
     "output_type": "execute_result"
    }
   ],
   "source": [
    "fm(.3)"
   ]
  },
  {
   "cell_type": "code",
   "execution_count": 40,
   "id": "43beccba",
   "metadata": {},
   "outputs": [
    {
     "data": {
      "text/plain": [
       "-2.7755575615628914e-16 - 9.661673900781055e-17im"
      ]
     },
     "execution_count": 40,
     "metadata": {},
     "output_type": "execute_result"
    }
   ],
   "source": [
    "f(.1) - fm(.1)"
   ]
  },
  {
   "cell_type": "code",
   "execution_count": 41,
   "id": "fe027cfc",
   "metadata": {},
   "outputs": [],
   "source": [
    "L = 10\n",
    "f = x -> exp.(-cos.(10*pi*x/L))\n",
    "\n",
    "data = []\n",
    "ms = []\n",
    "for m = 11:5:350\n",
    "    X = mgrid(m,L)\n",
    "    fn = trig_interp(L,mfft(f(X)))\n",
    "    append!(data,abs(fn(.1)-f(.1)))\n",
    "    append!(ms,m)\n",
    "end"
   ]
  },
  {
   "cell_type": "markdown",
   "id": "416c4cc1",
   "metadata": {},
   "source": [
    "A concave graph indicates spectral convergence of $I_nf(0.1)$ to $f(0.1)$."
   ]
  },
  {
   "cell_type": "code",
   "execution_count": 42,
   "id": "ddf7d891",
   "metadata": {},
   "outputs": [
    {
     "data": {
      "image/svg+xml": [
       "<?xml version=\"1.0\" encoding=\"utf-8\"?>\n",
       "<svg xmlns=\"http://www.w3.org/2000/svg\" xmlns:xlink=\"http://www.w3.org/1999/xlink\" width=\"600\" height=\"400\" viewBox=\"0 0 2400 1600\">\n",
       "<defs>\n",
       "  <clipPath id=\"clip220\">\n",
       "    <rect x=\"0\" y=\"0\" width=\"2400\" height=\"1600\"/>\n",
       "  </clipPath>\n",
       "</defs>\n",
       "<path clip-path=\"url(#clip220)\" d=\"\n",
       "M0 1600 L2400 1600 L2400 0 L0 0  Z\n",
       "  \" fill=\"#ffffff\" fill-rule=\"evenodd\" fill-opacity=\"1\"/>\n",
       "<defs>\n",
       "  <clipPath id=\"clip221\">\n",
       "    <rect x=\"480\" y=\"0\" width=\"1681\" height=\"1600\"/>\n",
       "  </clipPath>\n",
       "</defs>\n",
       "<path clip-path=\"url(#clip220)\" d=\"\n",
       "M213.607 1486.45 L2352.76 1486.45 L2352.76 47.2441 L213.607 47.2441  Z\n",
       "  \" fill=\"#ffffff\" fill-rule=\"evenodd\" fill-opacity=\"1\"/>\n",
       "<defs>\n",
       "  <clipPath id=\"clip222\">\n",
       "    <rect x=\"213\" y=\"47\" width=\"2140\" height=\"1440\"/>\n",
       "  </clipPath>\n",
       "</defs>\n",
       "<polyline clip-path=\"url(#clip222)\" style=\"stroke:#000000; stroke-linecap:butt; stroke-linejoin:round; stroke-width:2; stroke-opacity:0.1; fill:none\" points=\"\n",
       "  509.088,1486.45 509.088,47.2441 \n",
       "  \"/>\n",
       "<polyline clip-path=\"url(#clip222)\" style=\"stroke:#000000; stroke-linecap:butt; stroke-linejoin:round; stroke-width:2; stroke-opacity:0.1; fill:none\" points=\"\n",
       "  810.292,1486.45 810.292,47.2441 \n",
       "  \"/>\n",
       "<polyline clip-path=\"url(#clip222)\" style=\"stroke:#000000; stroke-linecap:butt; stroke-linejoin:round; stroke-width:2; stroke-opacity:0.1; fill:none\" points=\"\n",
       "  1111.5,1486.45 1111.5,47.2441 \n",
       "  \"/>\n",
       "<polyline clip-path=\"url(#clip222)\" style=\"stroke:#000000; stroke-linecap:butt; stroke-linejoin:round; stroke-width:2; stroke-opacity:0.1; fill:none\" points=\"\n",
       "  1412.7,1486.45 1412.7,47.2441 \n",
       "  \"/>\n",
       "<polyline clip-path=\"url(#clip222)\" style=\"stroke:#000000; stroke-linecap:butt; stroke-linejoin:round; stroke-width:2; stroke-opacity:0.1; fill:none\" points=\"\n",
       "  1713.9,1486.45 1713.9,47.2441 \n",
       "  \"/>\n",
       "<polyline clip-path=\"url(#clip222)\" style=\"stroke:#000000; stroke-linecap:butt; stroke-linejoin:round; stroke-width:2; stroke-opacity:0.1; fill:none\" points=\"\n",
       "  2015.11,1486.45 2015.11,47.2441 \n",
       "  \"/>\n",
       "<polyline clip-path=\"url(#clip222)\" style=\"stroke:#000000; stroke-linecap:butt; stroke-linejoin:round; stroke-width:2; stroke-opacity:0.1; fill:none\" points=\"\n",
       "  2316.31,1486.45 2316.31,47.2441 \n",
       "  \"/>\n",
       "<polyline clip-path=\"url(#clip220)\" style=\"stroke:#000000; stroke-linecap:butt; stroke-linejoin:round; stroke-width:4; stroke-opacity:1; fill:none\" points=\"\n",
       "  213.607,1486.45 2352.76,1486.45 \n",
       "  \"/>\n",
       "<polyline clip-path=\"url(#clip220)\" style=\"stroke:#000000; stroke-linecap:butt; stroke-linejoin:round; stroke-width:4; stroke-opacity:1; fill:none\" points=\"\n",
       "  213.607,47.2441 2352.76,47.2441 \n",
       "  \"/>\n",
       "<polyline clip-path=\"url(#clip220)\" style=\"stroke:#000000; stroke-linecap:butt; stroke-linejoin:round; stroke-width:4; stroke-opacity:1; fill:none\" points=\"\n",
       "  509.088,1486.45 509.088,1467.55 \n",
       "  \"/>\n",
       "<polyline clip-path=\"url(#clip220)\" style=\"stroke:#000000; stroke-linecap:butt; stroke-linejoin:round; stroke-width:4; stroke-opacity:1; fill:none\" points=\"\n",
       "  810.292,1486.45 810.292,1467.55 \n",
       "  \"/>\n",
       "<polyline clip-path=\"url(#clip220)\" style=\"stroke:#000000; stroke-linecap:butt; stroke-linejoin:round; stroke-width:4; stroke-opacity:1; fill:none\" points=\"\n",
       "  1111.5,1486.45 1111.5,1467.55 \n",
       "  \"/>\n",
       "<polyline clip-path=\"url(#clip220)\" style=\"stroke:#000000; stroke-linecap:butt; stroke-linejoin:round; stroke-width:4; stroke-opacity:1; fill:none\" points=\"\n",
       "  1412.7,1486.45 1412.7,1467.55 \n",
       "  \"/>\n",
       "<polyline clip-path=\"url(#clip220)\" style=\"stroke:#000000; stroke-linecap:butt; stroke-linejoin:round; stroke-width:4; stroke-opacity:1; fill:none\" points=\"\n",
       "  1713.9,1486.45 1713.9,1467.55 \n",
       "  \"/>\n",
       "<polyline clip-path=\"url(#clip220)\" style=\"stroke:#000000; stroke-linecap:butt; stroke-linejoin:round; stroke-width:4; stroke-opacity:1; fill:none\" points=\"\n",
       "  2015.11,1486.45 2015.11,1467.55 \n",
       "  \"/>\n",
       "<polyline clip-path=\"url(#clip220)\" style=\"stroke:#000000; stroke-linecap:butt; stroke-linejoin:round; stroke-width:4; stroke-opacity:1; fill:none\" points=\"\n",
       "  2316.31,1486.45 2316.31,1467.55 \n",
       "  \"/>\n",
       "<path clip-path=\"url(#clip220)\" d=\"M483.787 1514.29 L502.144 1514.29 L502.144 1518.22 L488.07 1518.22 L488.07 1526.7 Q489.088 1526.35 490.107 1526.19 Q491.125 1526 492.144 1526 Q497.931 1526 501.311 1529.17 Q504.69 1532.34 504.69 1537.76 Q504.69 1543.34 501.218 1546.44 Q497.746 1549.52 491.426 1549.52 Q489.25 1549.52 486.982 1549.15 Q484.737 1548.78 482.329 1548.04 L482.329 1543.34 Q484.412 1544.47 486.635 1545.03 Q488.857 1545.58 491.334 1545.58 Q495.338 1545.58 497.676 1543.48 Q500.014 1541.37 500.014 1537.76 Q500.014 1534.15 497.676 1532.04 Q495.338 1529.94 491.334 1529.94 Q489.459 1529.94 487.584 1530.35 Q485.732 1530.77 483.787 1531.65 L483.787 1514.29 Z\" fill=\"#000000\" fill-rule=\"evenodd\" fill-opacity=\"1\" /><path clip-path=\"url(#clip220)\" d=\"M523.903 1517.37 Q520.292 1517.37 518.463 1520.93 Q516.658 1524.47 516.658 1531.6 Q516.658 1538.71 518.463 1542.27 Q520.292 1545.82 523.903 1545.82 Q527.537 1545.82 529.343 1542.27 Q531.171 1538.71 531.171 1531.6 Q531.171 1524.47 529.343 1520.93 Q527.537 1517.37 523.903 1517.37 M523.903 1513.66 Q529.713 1513.66 532.769 1518.27 Q535.847 1522.85 535.847 1531.6 Q535.847 1540.33 532.769 1544.94 Q529.713 1549.52 523.903 1549.52 Q518.093 1549.52 515.014 1544.94 Q511.959 1540.33 511.959 1531.6 Q511.959 1522.85 515.014 1518.27 Q518.093 1513.66 523.903 1513.66 Z\" fill=\"#000000\" fill-rule=\"evenodd\" fill-opacity=\"1\" /><path clip-path=\"url(#clip220)\" d=\"M769.899 1544.91 L777.537 1544.91 L777.537 1518.55 L769.227 1520.21 L769.227 1515.95 L777.491 1514.29 L782.167 1514.29 L782.167 1544.91 L789.806 1544.91 L789.806 1548.85 L769.899 1548.85 L769.899 1544.91 Z\" fill=\"#000000\" fill-rule=\"evenodd\" fill-opacity=\"1\" /><path clip-path=\"url(#clip220)\" d=\"M809.25 1517.37 Q805.639 1517.37 803.81 1520.93 Q802.005 1524.47 802.005 1531.6 Q802.005 1538.71 803.81 1542.27 Q805.639 1545.82 809.25 1545.82 Q812.885 1545.82 814.69 1542.27 Q816.519 1538.71 816.519 1531.6 Q816.519 1524.47 814.69 1520.93 Q812.885 1517.37 809.25 1517.37 M809.25 1513.66 Q815.06 1513.66 818.116 1518.27 Q821.195 1522.85 821.195 1531.6 Q821.195 1540.33 818.116 1544.94 Q815.06 1549.52 809.25 1549.52 Q803.44 1549.52 800.361 1544.94 Q797.306 1540.33 797.306 1531.6 Q797.306 1522.85 800.361 1518.27 Q803.44 1513.66 809.25 1513.66 Z\" fill=\"#000000\" fill-rule=\"evenodd\" fill-opacity=\"1\" /><path clip-path=\"url(#clip220)\" d=\"M839.412 1517.37 Q835.801 1517.37 833.972 1520.93 Q832.167 1524.47 832.167 1531.6 Q832.167 1538.71 833.972 1542.27 Q835.801 1545.82 839.412 1545.82 Q843.046 1545.82 844.852 1542.27 Q846.681 1538.71 846.681 1531.6 Q846.681 1524.47 844.852 1520.93 Q843.046 1517.37 839.412 1517.37 M839.412 1513.66 Q845.222 1513.66 848.278 1518.27 Q851.357 1522.85 851.357 1531.6 Q851.357 1540.33 848.278 1544.94 Q845.222 1549.52 839.412 1549.52 Q833.602 1549.52 830.523 1544.94 Q827.468 1540.33 827.468 1531.6 Q827.468 1522.85 830.523 1518.27 Q833.602 1513.66 839.412 1513.66 Z\" fill=\"#000000\" fill-rule=\"evenodd\" fill-opacity=\"1\" /><path clip-path=\"url(#clip220)\" d=\"M1071.1 1544.91 L1078.74 1544.91 L1078.74 1518.55 L1070.43 1520.21 L1070.43 1515.95 L1078.69 1514.29 L1083.37 1514.29 L1083.37 1544.91 L1091.01 1544.91 L1091.01 1548.85 L1071.1 1548.85 L1071.1 1544.91 Z\" fill=\"#000000\" fill-rule=\"evenodd\" fill-opacity=\"1\" /><path clip-path=\"url(#clip220)\" d=\"M1100.5 1514.29 L1118.86 1514.29 L1118.86 1518.22 L1104.78 1518.22 L1104.78 1526.7 Q1105.8 1526.35 1106.82 1526.19 Q1107.84 1526 1108.86 1526 Q1114.64 1526 1118.02 1529.17 Q1121.4 1532.34 1121.4 1537.76 Q1121.4 1543.34 1117.93 1546.44 Q1114.46 1549.52 1108.14 1549.52 Q1105.96 1549.52 1103.69 1549.15 Q1101.45 1548.78 1099.04 1548.04 L1099.04 1543.34 Q1101.13 1544.47 1103.35 1545.03 Q1105.57 1545.58 1108.05 1545.58 Q1112.05 1545.58 1114.39 1543.48 Q1116.73 1541.37 1116.73 1537.76 Q1116.73 1534.15 1114.39 1532.04 Q1112.05 1529.94 1108.05 1529.94 Q1106.17 1529.94 1104.3 1530.35 Q1102.44 1530.77 1100.5 1531.65 L1100.5 1514.29 Z\" fill=\"#000000\" fill-rule=\"evenodd\" fill-opacity=\"1\" /><path clip-path=\"url(#clip220)\" d=\"M1140.62 1517.37 Q1137 1517.37 1135.18 1520.93 Q1133.37 1524.47 1133.37 1531.6 Q1133.37 1538.71 1135.18 1542.27 Q1137 1545.82 1140.62 1545.82 Q1144.25 1545.82 1146.06 1542.27 Q1147.88 1538.71 1147.88 1531.6 Q1147.88 1524.47 1146.06 1520.93 Q1144.25 1517.37 1140.62 1517.37 M1140.62 1513.66 Q1146.43 1513.66 1149.48 1518.27 Q1152.56 1522.85 1152.56 1531.6 Q1152.56 1540.33 1149.48 1544.94 Q1146.43 1549.52 1140.62 1549.52 Q1134.81 1549.52 1131.73 1544.94 Q1128.67 1540.33 1128.67 1531.6 Q1128.67 1522.85 1131.73 1518.27 Q1134.81 1513.66 1140.62 1513.66 Z\" fill=\"#000000\" fill-rule=\"evenodd\" fill-opacity=\"1\" /><path clip-path=\"url(#clip220)\" d=\"M1376.39 1544.91 L1392.71 1544.91 L1392.71 1548.85 L1370.77 1548.85 L1370.77 1544.91 Q1373.43 1542.16 1378.01 1537.53 Q1382.62 1532.88 1383.8 1531.53 Q1386.04 1529.01 1386.92 1527.27 Q1387.83 1525.51 1387.83 1523.82 Q1387.83 1521.07 1385.88 1519.33 Q1383.96 1517.6 1380.86 1517.6 Q1378.66 1517.6 1376.21 1518.36 Q1373.78 1519.13 1371 1520.68 L1371 1515.95 Q1373.82 1514.82 1376.28 1514.24 Q1378.73 1513.66 1380.77 1513.66 Q1386.14 1513.66 1389.33 1516.35 Q1392.53 1519.03 1392.53 1523.52 Q1392.53 1525.65 1391.72 1527.57 Q1390.93 1529.47 1388.82 1532.07 Q1388.24 1532.74 1385.14 1535.95 Q1382.04 1539.15 1376.39 1544.91 Z\" fill=\"#000000\" fill-rule=\"evenodd\" fill-opacity=\"1\" /><path clip-path=\"url(#clip220)\" d=\"M1412.53 1517.37 Q1408.91 1517.37 1407.09 1520.93 Q1405.28 1524.47 1405.28 1531.6 Q1405.28 1538.71 1407.09 1542.27 Q1408.91 1545.82 1412.53 1545.82 Q1416.16 1545.82 1417.97 1542.27 Q1419.79 1538.71 1419.79 1531.6 Q1419.79 1524.47 1417.97 1520.93 Q1416.16 1517.37 1412.53 1517.37 M1412.53 1513.66 Q1418.34 1513.66 1421.39 1518.27 Q1424.47 1522.85 1424.47 1531.6 Q1424.47 1540.33 1421.39 1544.94 Q1418.34 1549.52 1412.53 1549.52 Q1406.72 1549.52 1403.64 1544.94 Q1400.58 1540.33 1400.58 1531.6 Q1400.58 1522.85 1403.64 1518.27 Q1406.72 1513.66 1412.53 1513.66 Z\" fill=\"#000000\" fill-rule=\"evenodd\" fill-opacity=\"1\" /><path clip-path=\"url(#clip220)\" d=\"M1442.69 1517.37 Q1439.08 1517.37 1437.25 1520.93 Q1435.44 1524.47 1435.44 1531.6 Q1435.44 1538.71 1437.25 1542.27 Q1439.08 1545.82 1442.69 1545.82 Q1446.32 1545.82 1448.13 1542.27 Q1449.96 1538.71 1449.96 1531.6 Q1449.96 1524.47 1448.13 1520.93 Q1446.32 1517.37 1442.69 1517.37 M1442.69 1513.66 Q1448.5 1513.66 1451.55 1518.27 Q1454.63 1522.85 1454.63 1531.6 Q1454.63 1540.33 1451.55 1544.94 Q1448.5 1549.52 1442.69 1549.52 Q1436.88 1549.52 1433.8 1544.94 Q1430.74 1540.33 1430.74 1531.6 Q1430.74 1522.85 1433.8 1518.27 Q1436.88 1513.66 1442.69 1513.66 Z\" fill=\"#000000\" fill-rule=\"evenodd\" fill-opacity=\"1\" /><path clip-path=\"url(#clip220)\" d=\"M1677.6 1544.91 L1693.91 1544.91 L1693.91 1548.85 L1671.97 1548.85 L1671.97 1544.91 Q1674.63 1542.16 1679.22 1537.53 Q1683.82 1532.88 1685 1531.53 Q1687.25 1529.01 1688.13 1527.27 Q1689.03 1525.51 1689.03 1523.82 Q1689.03 1521.07 1687.09 1519.33 Q1685.16 1517.6 1682.06 1517.6 Q1679.86 1517.6 1677.41 1518.36 Q1674.98 1519.13 1672.2 1520.68 L1672.2 1515.95 Q1675.03 1514.82 1677.48 1514.24 Q1679.93 1513.66 1681.97 1513.66 Q1687.34 1513.66 1690.54 1516.35 Q1693.73 1519.03 1693.73 1523.52 Q1693.73 1525.65 1692.92 1527.57 Q1692.13 1529.47 1690.03 1532.07 Q1689.45 1532.74 1686.35 1535.95 Q1683.24 1539.15 1677.6 1544.91 Z\" fill=\"#000000\" fill-rule=\"evenodd\" fill-opacity=\"1\" /><path clip-path=\"url(#clip220)\" d=\"M1703.78 1514.29 L1722.13 1514.29 L1722.13 1518.22 L1708.06 1518.22 L1708.06 1526.7 Q1709.08 1526.35 1710.1 1526.19 Q1711.11 1526 1712.13 1526 Q1717.92 1526 1721.3 1529.17 Q1724.68 1532.34 1724.68 1537.76 Q1724.68 1543.34 1721.21 1546.44 Q1717.73 1549.52 1711.41 1549.52 Q1709.24 1549.52 1706.97 1549.15 Q1704.72 1548.78 1702.32 1548.04 L1702.32 1543.34 Q1704.4 1544.47 1706.62 1545.03 Q1708.85 1545.58 1711.32 1545.58 Q1715.33 1545.58 1717.66 1543.48 Q1720 1541.37 1720 1537.76 Q1720 1534.15 1717.66 1532.04 Q1715.33 1529.94 1711.32 1529.94 Q1709.45 1529.94 1707.57 1530.35 Q1705.72 1530.77 1703.78 1531.65 L1703.78 1514.29 Z\" fill=\"#000000\" fill-rule=\"evenodd\" fill-opacity=\"1\" /><path clip-path=\"url(#clip220)\" d=\"M1743.89 1517.37 Q1740.28 1517.37 1738.45 1520.93 Q1736.65 1524.47 1736.65 1531.6 Q1736.65 1538.71 1738.45 1542.27 Q1740.28 1545.82 1743.89 1545.82 Q1747.53 1545.82 1749.33 1542.27 Q1751.16 1538.71 1751.16 1531.6 Q1751.16 1524.47 1749.33 1520.93 Q1747.53 1517.37 1743.89 1517.37 M1743.89 1513.66 Q1749.7 1513.66 1752.76 1518.27 Q1755.84 1522.85 1755.84 1531.6 Q1755.84 1540.33 1752.76 1544.94 Q1749.7 1549.52 1743.89 1549.52 Q1738.08 1549.52 1735 1544.94 Q1731.95 1540.33 1731.95 1531.6 Q1731.95 1522.85 1735 1518.27 Q1738.08 1513.66 1743.89 1513.66 Z\" fill=\"#000000\" fill-rule=\"evenodd\" fill-opacity=\"1\" /><path clip-path=\"url(#clip220)\" d=\"M1988.87 1530.21 Q1992.22 1530.93 1994.1 1533.2 Q1996 1535.47 1996 1538.8 Q1996 1543.92 1992.48 1546.72 Q1988.96 1549.52 1982.48 1549.52 Q1980.3 1549.52 1977.99 1549.08 Q1975.7 1548.66 1973.24 1547.81 L1973.24 1543.29 Q1975.19 1544.43 1977.5 1545.01 Q1979.82 1545.58 1982.34 1545.58 Q1986.74 1545.58 1989.03 1543.85 Q1991.35 1542.11 1991.35 1538.8 Q1991.35 1535.75 1989.19 1534.03 Q1987.06 1532.3 1983.24 1532.3 L1979.22 1532.3 L1979.22 1528.45 L1983.43 1528.45 Q1986.88 1528.45 1988.71 1527.09 Q1990.53 1525.7 1990.53 1523.11 Q1990.53 1520.45 1988.64 1519.03 Q1986.76 1517.6 1983.24 1517.6 Q1981.32 1517.6 1979.12 1518.01 Q1976.92 1518.43 1974.29 1519.31 L1974.29 1515.14 Q1976.95 1514.4 1979.26 1514.03 Q1981.6 1513.66 1983.66 1513.66 Q1988.98 1513.66 1992.09 1516.09 Q1995.19 1518.5 1995.19 1522.62 Q1995.19 1525.49 1993.54 1527.48 Q1991.9 1529.45 1988.87 1530.21 Z\" fill=\"#000000\" fill-rule=\"evenodd\" fill-opacity=\"1\" /><path clip-path=\"url(#clip220)\" d=\"M2014.86 1517.37 Q2011.25 1517.37 2009.42 1520.93 Q2007.62 1524.47 2007.62 1531.6 Q2007.62 1538.71 2009.42 1542.27 Q2011.25 1545.82 2014.86 1545.82 Q2018.5 1545.82 2020.3 1542.27 Q2022.13 1538.71 2022.13 1531.6 Q2022.13 1524.47 2020.3 1520.93 Q2018.5 1517.37 2014.86 1517.37 M2014.86 1513.66 Q2020.67 1513.66 2023.73 1518.27 Q2026.81 1522.85 2026.81 1531.6 Q2026.81 1540.33 2023.73 1544.94 Q2020.67 1549.52 2014.86 1549.52 Q2009.05 1549.52 2005.97 1544.94 Q2002.92 1540.33 2002.92 1531.6 Q2002.92 1522.85 2005.97 1518.27 Q2009.05 1513.66 2014.86 1513.66 Z\" fill=\"#000000\" fill-rule=\"evenodd\" fill-opacity=\"1\" /><path clip-path=\"url(#clip220)\" d=\"M2045.03 1517.37 Q2041.41 1517.37 2039.59 1520.93 Q2037.78 1524.47 2037.78 1531.6 Q2037.78 1538.71 2039.59 1542.27 Q2041.41 1545.82 2045.03 1545.82 Q2048.66 1545.82 2050.47 1542.27 Q2052.29 1538.71 2052.29 1531.6 Q2052.29 1524.47 2050.47 1520.93 Q2048.66 1517.37 2045.03 1517.37 M2045.03 1513.66 Q2050.84 1513.66 2053.89 1518.27 Q2056.97 1522.85 2056.97 1531.6 Q2056.97 1540.33 2053.89 1544.94 Q2050.84 1549.52 2045.03 1549.52 Q2039.22 1549.52 2036.14 1544.94 Q2033.08 1540.33 2033.08 1531.6 Q2033.08 1522.85 2036.14 1518.27 Q2039.22 1513.66 2045.03 1513.66 Z\" fill=\"#000000\" fill-rule=\"evenodd\" fill-opacity=\"1\" /><path clip-path=\"url(#clip220)\" d=\"M2290.07 1530.21 Q2293.43 1530.93 2295.3 1533.2 Q2297.2 1535.47 2297.2 1538.8 Q2297.2 1543.92 2293.68 1546.72 Q2290.16 1549.52 2283.68 1549.52 Q2281.51 1549.52 2279.19 1549.08 Q2276.9 1548.66 2274.45 1547.81 L2274.45 1543.29 Q2276.39 1544.43 2278.71 1545.01 Q2281.02 1545.58 2283.54 1545.58 Q2287.94 1545.58 2290.23 1543.85 Q2292.55 1542.11 2292.55 1538.8 Q2292.55 1535.75 2290.4 1534.03 Q2288.27 1532.3 2284.45 1532.3 L2280.42 1532.3 L2280.42 1528.45 L2284.63 1528.45 Q2288.08 1528.45 2289.91 1527.09 Q2291.74 1525.7 2291.74 1523.11 Q2291.74 1520.45 2289.84 1519.03 Q2287.97 1517.6 2284.45 1517.6 Q2282.53 1517.6 2280.33 1518.01 Q2278.13 1518.43 2275.49 1519.31 L2275.49 1515.14 Q2278.15 1514.4 2280.47 1514.03 Q2282.8 1513.66 2284.86 1513.66 Q2290.19 1513.66 2293.29 1516.09 Q2296.39 1518.5 2296.39 1522.62 Q2296.39 1525.49 2294.75 1527.48 Q2293.1 1529.45 2290.07 1530.21 Z\" fill=\"#000000\" fill-rule=\"evenodd\" fill-opacity=\"1\" /><path clip-path=\"url(#clip220)\" d=\"M2306.11 1514.29 L2324.47 1514.29 L2324.47 1518.22 L2310.4 1518.22 L2310.4 1526.7 Q2311.41 1526.35 2312.43 1526.19 Q2313.45 1526 2314.47 1526 Q2320.26 1526 2323.64 1529.17 Q2327.02 1532.34 2327.02 1537.76 Q2327.02 1543.34 2323.54 1546.44 Q2320.07 1549.52 2313.75 1549.52 Q2311.58 1549.52 2309.31 1549.15 Q2307.06 1548.78 2304.66 1548.04 L2304.66 1543.34 Q2306.74 1544.47 2308.96 1545.03 Q2311.18 1545.58 2313.66 1545.58 Q2317.66 1545.58 2320 1543.48 Q2322.34 1541.37 2322.34 1537.76 Q2322.34 1534.15 2320 1532.04 Q2317.66 1529.94 2313.66 1529.94 Q2311.78 1529.94 2309.91 1530.35 Q2308.06 1530.77 2306.11 1531.65 L2306.11 1514.29 Z\" fill=\"#000000\" fill-rule=\"evenodd\" fill-opacity=\"1\" /><path clip-path=\"url(#clip220)\" d=\"M2346.23 1517.37 Q2342.62 1517.37 2340.79 1520.93 Q2338.98 1524.47 2338.98 1531.6 Q2338.98 1538.71 2340.79 1542.27 Q2342.62 1545.82 2346.23 1545.82 Q2349.86 1545.82 2351.67 1542.27 Q2353.5 1538.71 2353.5 1531.6 Q2353.5 1524.47 2351.67 1520.93 Q2349.86 1517.37 2346.23 1517.37 M2346.23 1513.66 Q2352.04 1513.66 2355.09 1518.27 Q2358.17 1522.85 2358.17 1531.6 Q2358.17 1540.33 2355.09 1544.94 Q2352.04 1549.52 2346.23 1549.52 Q2340.42 1549.52 2337.34 1544.94 Q2334.28 1540.33 2334.28 1531.6 Q2334.28 1522.85 2337.34 1518.27 Q2340.42 1513.66 2346.23 1513.66 Z\" fill=\"#000000\" fill-rule=\"evenodd\" fill-opacity=\"1\" /><polyline clip-path=\"url(#clip222)\" style=\"stroke:#000000; stroke-linecap:butt; stroke-linejoin:round; stroke-width:2; stroke-opacity:0.1; fill:none\" points=\"\n",
       "  213.607,976.575 2352.76,976.575 \n",
       "  \"/>\n",
       "<polyline clip-path=\"url(#clip222)\" style=\"stroke:#000000; stroke-linecap:butt; stroke-linejoin:round; stroke-width:2; stroke-opacity:0.1; fill:none\" points=\"\n",
       "  213.607,119.471 2352.76,119.471 \n",
       "  \"/>\n",
       "<polyline clip-path=\"url(#clip220)\" style=\"stroke:#000000; stroke-linecap:butt; stroke-linejoin:round; stroke-width:4; stroke-opacity:1; fill:none\" points=\"\n",
       "  213.607,1486.45 213.607,47.2441 \n",
       "  \"/>\n",
       "<polyline clip-path=\"url(#clip220)\" style=\"stroke:#000000; stroke-linecap:butt; stroke-linejoin:round; stroke-width:4; stroke-opacity:1; fill:none\" points=\"\n",
       "  2352.76,1486.45 2352.76,47.2441 \n",
       "  \"/>\n",
       "<polyline clip-path=\"url(#clip220)\" style=\"stroke:#000000; stroke-linecap:butt; stroke-linejoin:round; stroke-width:4; stroke-opacity:1; fill:none\" points=\"\n",
       "  213.607,976.575 232.505,976.575 \n",
       "  \"/>\n",
       "<polyline clip-path=\"url(#clip220)\" style=\"stroke:#000000; stroke-linecap:butt; stroke-linejoin:round; stroke-width:4; stroke-opacity:1; fill:none\" points=\"\n",
       "  213.607,119.471 232.505,119.471 \n",
       "  \"/>\n",
       "<path clip-path=\"url(#clip220)\" d=\"M51.6634 996.367 L59.3023 996.367 L59.3023 970.002 L50.9921 971.668 L50.9921 967.409 L59.256 965.743 L63.9319 965.743 L63.9319 996.367 L71.5707 996.367 L71.5707 1000.3 L51.6634 1000.3 L51.6634 996.367 Z\" fill=\"#000000\" fill-rule=\"evenodd\" fill-opacity=\"1\" /><path clip-path=\"url(#clip220)\" d=\"M91.0151 968.821 Q87.404 968.821 85.5753 972.386 Q83.7697 975.928 83.7697 983.057 Q83.7697 990.164 85.5753 993.729 Q87.404 997.27 91.0151 997.27 Q94.6493 997.27 96.4548 993.729 Q98.2835 990.164 98.2835 983.057 Q98.2835 975.928 96.4548 972.386 Q94.6493 968.821 91.0151 968.821 M91.0151 965.118 Q96.8252 965.118 99.8808 969.724 Q102.959 974.307 102.959 983.057 Q102.959 991.784 99.8808 996.391 Q96.8252 1000.97 91.0151 1000.97 Q85.2049 1000.97 82.1262 996.391 Q79.0707 991.784 79.0707 983.057 Q79.0707 974.307 82.1262 969.724 Q85.2049 965.118 91.0151 965.118 Z\" fill=\"#000000\" fill-rule=\"evenodd\" fill-opacity=\"1\" /><path clip-path=\"url(#clip220)\" d=\"M102.959 959.219 L127.071 959.219 L127.071 962.416 L102.959 962.416 L102.959 959.219 Z\" fill=\"#000000\" fill-rule=\"evenodd\" fill-opacity=\"1\" /><path clip-path=\"url(#clip220)\" d=\"M135.929 969.695 L142.136 969.695 L142.136 948.273 L135.384 949.627 L135.384 946.166 L142.098 944.812 L145.898 944.812 L145.898 969.695 L152.104 969.695 L152.104 972.892 L135.929 972.892 L135.929 969.695 Z\" fill=\"#000000\" fill-rule=\"evenodd\" fill-opacity=\"1\" /><path clip-path=\"url(#clip220)\" d=\"M167.903 947.314 Q164.969 947.314 163.483 950.21 Q162.016 953.088 162.016 958.88 Q162.016 964.654 163.483 967.551 Q164.969 970.428 167.903 970.428 Q170.855 970.428 172.322 967.551 Q173.808 964.654 173.808 958.88 Q173.808 953.088 172.322 950.21 Q170.855 947.314 167.903 947.314 M167.903 944.304 Q172.623 944.304 175.106 948.047 Q177.607 951.771 177.607 958.88 Q177.607 965.971 175.106 969.714 Q172.623 973.438 167.903 973.438 Q163.182 973.438 160.68 969.714 Q158.198 965.971 158.198 958.88 Q158.198 951.771 160.68 948.047 Q163.182 944.304 167.903 944.304 Z\" fill=\"#000000\" fill-rule=\"evenodd\" fill-opacity=\"1\" /><path clip-path=\"url(#clip220)\" d=\"M106.902 139.263 L114.541 139.263 L114.541 112.898 L106.231 114.564 L106.231 110.305 L114.494 108.638 L119.17 108.638 L119.17 139.263 L126.809 139.263 L126.809 143.198 L106.902 143.198 L106.902 139.263 Z\" fill=\"#000000\" fill-rule=\"evenodd\" fill-opacity=\"1\" /><path clip-path=\"url(#clip220)\" d=\"M146.253 111.717 Q142.642 111.717 140.814 115.282 Q139.008 118.823 139.008 125.953 Q139.008 133.059 140.814 136.624 Q142.642 140.166 146.253 140.166 Q149.888 140.166 151.693 136.624 Q153.522 133.059 153.522 125.953 Q153.522 118.823 151.693 115.282 Q149.888 111.717 146.253 111.717 M146.253 108.013 Q152.064 108.013 155.119 112.62 Q158.198 117.203 158.198 125.953 Q158.198 134.68 155.119 139.286 Q152.064 143.87 146.253 143.87 Q140.443 143.87 137.365 139.286 Q134.309 134.68 134.309 125.953 Q134.309 117.203 137.365 112.62 Q140.443 108.013 146.253 108.013 Z\" fill=\"#000000\" fill-rule=\"evenodd\" fill-opacity=\"1\" /><path clip-path=\"url(#clip220)\" d=\"M167.903 90.2093 Q164.969 90.2093 163.483 93.1057 Q162.016 95.9833 162.016 101.776 Q162.016 107.55 163.483 110.446 Q164.969 113.324 167.903 113.324 Q170.855 113.324 172.322 110.446 Q173.808 107.55 173.808 101.776 Q173.808 95.9833 172.322 93.1057 Q170.855 90.2093 167.903 90.2093 M167.903 87.2001 Q172.623 87.2001 175.106 90.9428 Q177.607 94.6668 177.607 101.776 Q177.607 108.867 175.106 112.609 Q172.623 116.333 167.903 116.333 Q163.182 116.333 160.68 112.609 Q158.198 108.867 158.198 101.776 Q158.198 94.6668 160.68 90.9428 Q163.182 87.2001 167.903 87.2001 Z\" fill=\"#000000\" fill-rule=\"evenodd\" fill-opacity=\"1\" /><polyline clip-path=\"url(#clip222)\" style=\"stroke:#009af9; stroke-linecap:butt; stroke-linejoin:round; stroke-width:4; stroke-opacity:1; fill:none\" points=\"\n",
       "  274.149,87.9763 304.27,361.225 334.39,151.837 364.511,247.566 394.631,152.468 424.751,324.289 454.872,223.516 484.992,292.432 515.112,227.594 545.233,357.649 \n",
       "  575.353,312.901 605.473,358.34 635.594,321.734 665.714,419.466 695.835,423.377 725.955,438.259 756.075,449.599 786.196,497.6 816.316,624.78 846.436,529.219 \n",
       "  876.557,534.524 906.677,587.974 936.797,610.254 966.918,629.887 997.038,595.365 1027.16,689.022 1057.28,690.402 1087.4,740.138 1117.52,682.529 1147.64,800.973 \n",
       "  1177.76,786.405 1207.88,861.788 1238,781.719 1268.12,927.664 1298.24,892.072 1328.36,1004.54 1358.48,889.536 1388.6,1103.92 1418.72,1005.41 1448.84,1150.62 \n",
       "  1478.96,1004.73 1509.08,1166.79 1539.2,1125.77 1569.33,1215.7 1599.45,1127 1629.57,1257.44 1659.69,1253.06 1689.81,1306.18 1719.93,1257.6 1750.05,1347.27 \n",
       "  1780.17,1355.12 1810.29,1376.21 1840.41,1383.26 1870.53,1366.94 1900.65,1411.33 1930.77,1376.49 1960.89,1364.21 1991.01,1393.51 2021.13,1445.72 2051.25,1368.13 \n",
       "  2081.37,1390.98 2111.49,1362.23 2141.61,1375.09 2171.73,1404.97 2201.85,1363.97 2231.97,1364.31 2262.09,1356.66 2292.21,1366.38 \n",
       "  \"/>\n",
       "<circle clip-path=\"url(#clip222)\" cx=\"274.149\" cy=\"87.9763\" r=\"14.4\" fill=\"#e26f46\" fill-rule=\"evenodd\" fill-opacity=\"1\" stroke=\"#000000\" stroke-opacity=\"1\" stroke-width=\"3.2\"/>\n",
       "<circle clip-path=\"url(#clip222)\" cx=\"304.27\" cy=\"361.225\" r=\"14.4\" fill=\"#e26f46\" fill-rule=\"evenodd\" fill-opacity=\"1\" stroke=\"#000000\" stroke-opacity=\"1\" stroke-width=\"3.2\"/>\n",
       "<circle clip-path=\"url(#clip222)\" cx=\"334.39\" cy=\"151.837\" r=\"14.4\" fill=\"#e26f46\" fill-rule=\"evenodd\" fill-opacity=\"1\" stroke=\"#000000\" stroke-opacity=\"1\" stroke-width=\"3.2\"/>\n",
       "<circle clip-path=\"url(#clip222)\" cx=\"364.511\" cy=\"247.566\" r=\"14.4\" fill=\"#e26f46\" fill-rule=\"evenodd\" fill-opacity=\"1\" stroke=\"#000000\" stroke-opacity=\"1\" stroke-width=\"3.2\"/>\n",
       "<circle clip-path=\"url(#clip222)\" cx=\"394.631\" cy=\"152.468\" r=\"14.4\" fill=\"#e26f46\" fill-rule=\"evenodd\" fill-opacity=\"1\" stroke=\"#000000\" stroke-opacity=\"1\" stroke-width=\"3.2\"/>\n",
       "<circle clip-path=\"url(#clip222)\" cx=\"424.751\" cy=\"324.289\" r=\"14.4\" fill=\"#e26f46\" fill-rule=\"evenodd\" fill-opacity=\"1\" stroke=\"#000000\" stroke-opacity=\"1\" stroke-width=\"3.2\"/>\n",
       "<circle clip-path=\"url(#clip222)\" cx=\"454.872\" cy=\"223.516\" r=\"14.4\" fill=\"#e26f46\" fill-rule=\"evenodd\" fill-opacity=\"1\" stroke=\"#000000\" stroke-opacity=\"1\" stroke-width=\"3.2\"/>\n",
       "<circle clip-path=\"url(#clip222)\" cx=\"484.992\" cy=\"292.432\" r=\"14.4\" fill=\"#e26f46\" fill-rule=\"evenodd\" fill-opacity=\"1\" stroke=\"#000000\" stroke-opacity=\"1\" stroke-width=\"3.2\"/>\n",
       "<circle clip-path=\"url(#clip222)\" cx=\"515.112\" cy=\"227.594\" r=\"14.4\" fill=\"#e26f46\" fill-rule=\"evenodd\" fill-opacity=\"1\" stroke=\"#000000\" stroke-opacity=\"1\" stroke-width=\"3.2\"/>\n",
       "<circle clip-path=\"url(#clip222)\" cx=\"545.233\" cy=\"357.649\" r=\"14.4\" fill=\"#e26f46\" fill-rule=\"evenodd\" fill-opacity=\"1\" stroke=\"#000000\" stroke-opacity=\"1\" stroke-width=\"3.2\"/>\n",
       "<circle clip-path=\"url(#clip222)\" cx=\"575.353\" cy=\"312.901\" r=\"14.4\" fill=\"#e26f46\" fill-rule=\"evenodd\" fill-opacity=\"1\" stroke=\"#000000\" stroke-opacity=\"1\" stroke-width=\"3.2\"/>\n",
       "<circle clip-path=\"url(#clip222)\" cx=\"605.473\" cy=\"358.34\" r=\"14.4\" fill=\"#e26f46\" fill-rule=\"evenodd\" fill-opacity=\"1\" stroke=\"#000000\" stroke-opacity=\"1\" stroke-width=\"3.2\"/>\n",
       "<circle clip-path=\"url(#clip222)\" cx=\"635.594\" cy=\"321.734\" r=\"14.4\" fill=\"#e26f46\" fill-rule=\"evenodd\" fill-opacity=\"1\" stroke=\"#000000\" stroke-opacity=\"1\" stroke-width=\"3.2\"/>\n",
       "<circle clip-path=\"url(#clip222)\" cx=\"665.714\" cy=\"419.466\" r=\"14.4\" fill=\"#e26f46\" fill-rule=\"evenodd\" fill-opacity=\"1\" stroke=\"#000000\" stroke-opacity=\"1\" stroke-width=\"3.2\"/>\n",
       "<circle clip-path=\"url(#clip222)\" cx=\"695.835\" cy=\"423.377\" r=\"14.4\" fill=\"#e26f46\" fill-rule=\"evenodd\" fill-opacity=\"1\" stroke=\"#000000\" stroke-opacity=\"1\" stroke-width=\"3.2\"/>\n",
       "<circle clip-path=\"url(#clip222)\" cx=\"725.955\" cy=\"438.259\" r=\"14.4\" fill=\"#e26f46\" fill-rule=\"evenodd\" fill-opacity=\"1\" stroke=\"#000000\" stroke-opacity=\"1\" stroke-width=\"3.2\"/>\n",
       "<circle clip-path=\"url(#clip222)\" cx=\"756.075\" cy=\"449.599\" r=\"14.4\" fill=\"#e26f46\" fill-rule=\"evenodd\" fill-opacity=\"1\" stroke=\"#000000\" stroke-opacity=\"1\" stroke-width=\"3.2\"/>\n",
       "<circle clip-path=\"url(#clip222)\" cx=\"786.196\" cy=\"497.6\" r=\"14.4\" fill=\"#e26f46\" fill-rule=\"evenodd\" fill-opacity=\"1\" stroke=\"#000000\" stroke-opacity=\"1\" stroke-width=\"3.2\"/>\n",
       "<circle clip-path=\"url(#clip222)\" cx=\"816.316\" cy=\"624.78\" r=\"14.4\" fill=\"#e26f46\" fill-rule=\"evenodd\" fill-opacity=\"1\" stroke=\"#000000\" stroke-opacity=\"1\" stroke-width=\"3.2\"/>\n",
       "<circle clip-path=\"url(#clip222)\" cx=\"846.436\" cy=\"529.219\" r=\"14.4\" fill=\"#e26f46\" fill-rule=\"evenodd\" fill-opacity=\"1\" stroke=\"#000000\" stroke-opacity=\"1\" stroke-width=\"3.2\"/>\n",
       "<circle clip-path=\"url(#clip222)\" cx=\"876.557\" cy=\"534.524\" r=\"14.4\" fill=\"#e26f46\" fill-rule=\"evenodd\" fill-opacity=\"1\" stroke=\"#000000\" stroke-opacity=\"1\" stroke-width=\"3.2\"/>\n",
       "<circle clip-path=\"url(#clip222)\" cx=\"906.677\" cy=\"587.974\" r=\"14.4\" fill=\"#e26f46\" fill-rule=\"evenodd\" fill-opacity=\"1\" stroke=\"#000000\" stroke-opacity=\"1\" stroke-width=\"3.2\"/>\n",
       "<circle clip-path=\"url(#clip222)\" cx=\"936.797\" cy=\"610.254\" r=\"14.4\" fill=\"#e26f46\" fill-rule=\"evenodd\" fill-opacity=\"1\" stroke=\"#000000\" stroke-opacity=\"1\" stroke-width=\"3.2\"/>\n",
       "<circle clip-path=\"url(#clip222)\" cx=\"966.918\" cy=\"629.887\" r=\"14.4\" fill=\"#e26f46\" fill-rule=\"evenodd\" fill-opacity=\"1\" stroke=\"#000000\" stroke-opacity=\"1\" stroke-width=\"3.2\"/>\n",
       "<circle clip-path=\"url(#clip222)\" cx=\"997.038\" cy=\"595.365\" r=\"14.4\" fill=\"#e26f46\" fill-rule=\"evenodd\" fill-opacity=\"1\" stroke=\"#000000\" stroke-opacity=\"1\" stroke-width=\"3.2\"/>\n",
       "<circle clip-path=\"url(#clip222)\" cx=\"1027.16\" cy=\"689.022\" r=\"14.4\" fill=\"#e26f46\" fill-rule=\"evenodd\" fill-opacity=\"1\" stroke=\"#000000\" stroke-opacity=\"1\" stroke-width=\"3.2\"/>\n",
       "<circle clip-path=\"url(#clip222)\" cx=\"1057.28\" cy=\"690.402\" r=\"14.4\" fill=\"#e26f46\" fill-rule=\"evenodd\" fill-opacity=\"1\" stroke=\"#000000\" stroke-opacity=\"1\" stroke-width=\"3.2\"/>\n",
       "<circle clip-path=\"url(#clip222)\" cx=\"1087.4\" cy=\"740.138\" r=\"14.4\" fill=\"#e26f46\" fill-rule=\"evenodd\" fill-opacity=\"1\" stroke=\"#000000\" stroke-opacity=\"1\" stroke-width=\"3.2\"/>\n",
       "<circle clip-path=\"url(#clip222)\" cx=\"1117.52\" cy=\"682.529\" r=\"14.4\" fill=\"#e26f46\" fill-rule=\"evenodd\" fill-opacity=\"1\" stroke=\"#000000\" stroke-opacity=\"1\" stroke-width=\"3.2\"/>\n",
       "<circle clip-path=\"url(#clip222)\" cx=\"1147.64\" cy=\"800.973\" r=\"14.4\" fill=\"#e26f46\" fill-rule=\"evenodd\" fill-opacity=\"1\" stroke=\"#000000\" stroke-opacity=\"1\" stroke-width=\"3.2\"/>\n",
       "<circle clip-path=\"url(#clip222)\" cx=\"1177.76\" cy=\"786.405\" r=\"14.4\" fill=\"#e26f46\" fill-rule=\"evenodd\" fill-opacity=\"1\" stroke=\"#000000\" stroke-opacity=\"1\" stroke-width=\"3.2\"/>\n",
       "<circle clip-path=\"url(#clip222)\" cx=\"1207.88\" cy=\"861.788\" r=\"14.4\" fill=\"#e26f46\" fill-rule=\"evenodd\" fill-opacity=\"1\" stroke=\"#000000\" stroke-opacity=\"1\" stroke-width=\"3.2\"/>\n",
       "<circle clip-path=\"url(#clip222)\" cx=\"1238\" cy=\"781.719\" r=\"14.4\" fill=\"#e26f46\" fill-rule=\"evenodd\" fill-opacity=\"1\" stroke=\"#000000\" stroke-opacity=\"1\" stroke-width=\"3.2\"/>\n",
       "<circle clip-path=\"url(#clip222)\" cx=\"1268.12\" cy=\"927.664\" r=\"14.4\" fill=\"#e26f46\" fill-rule=\"evenodd\" fill-opacity=\"1\" stroke=\"#000000\" stroke-opacity=\"1\" stroke-width=\"3.2\"/>\n",
       "<circle clip-path=\"url(#clip222)\" cx=\"1298.24\" cy=\"892.072\" r=\"14.4\" fill=\"#e26f46\" fill-rule=\"evenodd\" fill-opacity=\"1\" stroke=\"#000000\" stroke-opacity=\"1\" stroke-width=\"3.2\"/>\n",
       "<circle clip-path=\"url(#clip222)\" cx=\"1328.36\" cy=\"1004.54\" r=\"14.4\" fill=\"#e26f46\" fill-rule=\"evenodd\" fill-opacity=\"1\" stroke=\"#000000\" stroke-opacity=\"1\" stroke-width=\"3.2\"/>\n",
       "<circle clip-path=\"url(#clip222)\" cx=\"1358.48\" cy=\"889.536\" r=\"14.4\" fill=\"#e26f46\" fill-rule=\"evenodd\" fill-opacity=\"1\" stroke=\"#000000\" stroke-opacity=\"1\" stroke-width=\"3.2\"/>\n",
       "<circle clip-path=\"url(#clip222)\" cx=\"1388.6\" cy=\"1103.92\" r=\"14.4\" fill=\"#e26f46\" fill-rule=\"evenodd\" fill-opacity=\"1\" stroke=\"#000000\" stroke-opacity=\"1\" stroke-width=\"3.2\"/>\n",
       "<circle clip-path=\"url(#clip222)\" cx=\"1418.72\" cy=\"1005.41\" r=\"14.4\" fill=\"#e26f46\" fill-rule=\"evenodd\" fill-opacity=\"1\" stroke=\"#000000\" stroke-opacity=\"1\" stroke-width=\"3.2\"/>\n",
       "<circle clip-path=\"url(#clip222)\" cx=\"1448.84\" cy=\"1150.62\" r=\"14.4\" fill=\"#e26f46\" fill-rule=\"evenodd\" fill-opacity=\"1\" stroke=\"#000000\" stroke-opacity=\"1\" stroke-width=\"3.2\"/>\n",
       "<circle clip-path=\"url(#clip222)\" cx=\"1478.96\" cy=\"1004.73\" r=\"14.4\" fill=\"#e26f46\" fill-rule=\"evenodd\" fill-opacity=\"1\" stroke=\"#000000\" stroke-opacity=\"1\" stroke-width=\"3.2\"/>\n",
       "<circle clip-path=\"url(#clip222)\" cx=\"1509.08\" cy=\"1166.79\" r=\"14.4\" fill=\"#e26f46\" fill-rule=\"evenodd\" fill-opacity=\"1\" stroke=\"#000000\" stroke-opacity=\"1\" stroke-width=\"3.2\"/>\n",
       "<circle clip-path=\"url(#clip222)\" cx=\"1539.2\" cy=\"1125.77\" r=\"14.4\" fill=\"#e26f46\" fill-rule=\"evenodd\" fill-opacity=\"1\" stroke=\"#000000\" stroke-opacity=\"1\" stroke-width=\"3.2\"/>\n",
       "<circle clip-path=\"url(#clip222)\" cx=\"1569.33\" cy=\"1215.7\" r=\"14.4\" fill=\"#e26f46\" fill-rule=\"evenodd\" fill-opacity=\"1\" stroke=\"#000000\" stroke-opacity=\"1\" stroke-width=\"3.2\"/>\n",
       "<circle clip-path=\"url(#clip222)\" cx=\"1599.45\" cy=\"1127\" r=\"14.4\" fill=\"#e26f46\" fill-rule=\"evenodd\" fill-opacity=\"1\" stroke=\"#000000\" stroke-opacity=\"1\" stroke-width=\"3.2\"/>\n",
       "<circle clip-path=\"url(#clip222)\" cx=\"1629.57\" cy=\"1257.44\" r=\"14.4\" fill=\"#e26f46\" fill-rule=\"evenodd\" fill-opacity=\"1\" stroke=\"#000000\" stroke-opacity=\"1\" stroke-width=\"3.2\"/>\n",
       "<circle clip-path=\"url(#clip222)\" cx=\"1659.69\" cy=\"1253.06\" r=\"14.4\" fill=\"#e26f46\" fill-rule=\"evenodd\" fill-opacity=\"1\" stroke=\"#000000\" stroke-opacity=\"1\" stroke-width=\"3.2\"/>\n",
       "<circle clip-path=\"url(#clip222)\" cx=\"1689.81\" cy=\"1306.18\" r=\"14.4\" fill=\"#e26f46\" fill-rule=\"evenodd\" fill-opacity=\"1\" stroke=\"#000000\" stroke-opacity=\"1\" stroke-width=\"3.2\"/>\n",
       "<circle clip-path=\"url(#clip222)\" cx=\"1719.93\" cy=\"1257.6\" r=\"14.4\" fill=\"#e26f46\" fill-rule=\"evenodd\" fill-opacity=\"1\" stroke=\"#000000\" stroke-opacity=\"1\" stroke-width=\"3.2\"/>\n",
       "<circle clip-path=\"url(#clip222)\" cx=\"1750.05\" cy=\"1347.27\" r=\"14.4\" fill=\"#e26f46\" fill-rule=\"evenodd\" fill-opacity=\"1\" stroke=\"#000000\" stroke-opacity=\"1\" stroke-width=\"3.2\"/>\n",
       "<circle clip-path=\"url(#clip222)\" cx=\"1780.17\" cy=\"1355.12\" r=\"14.4\" fill=\"#e26f46\" fill-rule=\"evenodd\" fill-opacity=\"1\" stroke=\"#000000\" stroke-opacity=\"1\" stroke-width=\"3.2\"/>\n",
       "<circle clip-path=\"url(#clip222)\" cx=\"1810.29\" cy=\"1376.21\" r=\"14.4\" fill=\"#e26f46\" fill-rule=\"evenodd\" fill-opacity=\"1\" stroke=\"#000000\" stroke-opacity=\"1\" stroke-width=\"3.2\"/>\n",
       "<circle clip-path=\"url(#clip222)\" cx=\"1840.41\" cy=\"1383.26\" r=\"14.4\" fill=\"#e26f46\" fill-rule=\"evenodd\" fill-opacity=\"1\" stroke=\"#000000\" stroke-opacity=\"1\" stroke-width=\"3.2\"/>\n",
       "<circle clip-path=\"url(#clip222)\" cx=\"1870.53\" cy=\"1366.94\" r=\"14.4\" fill=\"#e26f46\" fill-rule=\"evenodd\" fill-opacity=\"1\" stroke=\"#000000\" stroke-opacity=\"1\" stroke-width=\"3.2\"/>\n",
       "<circle clip-path=\"url(#clip222)\" cx=\"1900.65\" cy=\"1411.33\" r=\"14.4\" fill=\"#e26f46\" fill-rule=\"evenodd\" fill-opacity=\"1\" stroke=\"#000000\" stroke-opacity=\"1\" stroke-width=\"3.2\"/>\n",
       "<circle clip-path=\"url(#clip222)\" cx=\"1930.77\" cy=\"1376.49\" r=\"14.4\" fill=\"#e26f46\" fill-rule=\"evenodd\" fill-opacity=\"1\" stroke=\"#000000\" stroke-opacity=\"1\" stroke-width=\"3.2\"/>\n",
       "<circle clip-path=\"url(#clip222)\" cx=\"1960.89\" cy=\"1364.21\" r=\"14.4\" fill=\"#e26f46\" fill-rule=\"evenodd\" fill-opacity=\"1\" stroke=\"#000000\" stroke-opacity=\"1\" stroke-width=\"3.2\"/>\n",
       "<circle clip-path=\"url(#clip222)\" cx=\"1991.01\" cy=\"1393.51\" r=\"14.4\" fill=\"#e26f46\" fill-rule=\"evenodd\" fill-opacity=\"1\" stroke=\"#000000\" stroke-opacity=\"1\" stroke-width=\"3.2\"/>\n",
       "<circle clip-path=\"url(#clip222)\" cx=\"2021.13\" cy=\"1445.72\" r=\"14.4\" fill=\"#e26f46\" fill-rule=\"evenodd\" fill-opacity=\"1\" stroke=\"#000000\" stroke-opacity=\"1\" stroke-width=\"3.2\"/>\n",
       "<circle clip-path=\"url(#clip222)\" cx=\"2051.25\" cy=\"1368.13\" r=\"14.4\" fill=\"#e26f46\" fill-rule=\"evenodd\" fill-opacity=\"1\" stroke=\"#000000\" stroke-opacity=\"1\" stroke-width=\"3.2\"/>\n",
       "<circle clip-path=\"url(#clip222)\" cx=\"2081.37\" cy=\"1390.98\" r=\"14.4\" fill=\"#e26f46\" fill-rule=\"evenodd\" fill-opacity=\"1\" stroke=\"#000000\" stroke-opacity=\"1\" stroke-width=\"3.2\"/>\n",
       "<circle clip-path=\"url(#clip222)\" cx=\"2111.49\" cy=\"1362.23\" r=\"14.4\" fill=\"#e26f46\" fill-rule=\"evenodd\" fill-opacity=\"1\" stroke=\"#000000\" stroke-opacity=\"1\" stroke-width=\"3.2\"/>\n",
       "<circle clip-path=\"url(#clip222)\" cx=\"2141.61\" cy=\"1375.09\" r=\"14.4\" fill=\"#e26f46\" fill-rule=\"evenodd\" fill-opacity=\"1\" stroke=\"#000000\" stroke-opacity=\"1\" stroke-width=\"3.2\"/>\n",
       "<circle clip-path=\"url(#clip222)\" cx=\"2171.73\" cy=\"1404.97\" r=\"14.4\" fill=\"#e26f46\" fill-rule=\"evenodd\" fill-opacity=\"1\" stroke=\"#000000\" stroke-opacity=\"1\" stroke-width=\"3.2\"/>\n",
       "<circle clip-path=\"url(#clip222)\" cx=\"2201.85\" cy=\"1363.97\" r=\"14.4\" fill=\"#e26f46\" fill-rule=\"evenodd\" fill-opacity=\"1\" stroke=\"#000000\" stroke-opacity=\"1\" stroke-width=\"3.2\"/>\n",
       "<circle clip-path=\"url(#clip222)\" cx=\"2231.97\" cy=\"1364.31\" r=\"14.4\" fill=\"#e26f46\" fill-rule=\"evenodd\" fill-opacity=\"1\" stroke=\"#000000\" stroke-opacity=\"1\" stroke-width=\"3.2\"/>\n",
       "<circle clip-path=\"url(#clip222)\" cx=\"2262.09\" cy=\"1356.66\" r=\"14.4\" fill=\"#e26f46\" fill-rule=\"evenodd\" fill-opacity=\"1\" stroke=\"#000000\" stroke-opacity=\"1\" stroke-width=\"3.2\"/>\n",
       "<circle clip-path=\"url(#clip222)\" cx=\"2292.21\" cy=\"1366.38\" r=\"14.4\" fill=\"#e26f46\" fill-rule=\"evenodd\" fill-opacity=\"1\" stroke=\"#000000\" stroke-opacity=\"1\" stroke-width=\"3.2\"/>\n",
       "<path clip-path=\"url(#clip220)\" d=\"\n",
       "M1661.46 198.898 L2281.45 198.898 L2281.45 95.2176 L1661.46 95.2176  Z\n",
       "  \" fill=\"#ffffff\" fill-rule=\"evenodd\" fill-opacity=\"1\"/>\n",
       "<polyline clip-path=\"url(#clip220)\" style=\"stroke:#000000; stroke-linecap:butt; stroke-linejoin:round; stroke-width:4; stroke-opacity:1; fill:none\" points=\"\n",
       "  1661.46,198.898 2281.45,198.898 2281.45,95.2176 1661.46,95.2176 1661.46,198.898 \n",
       "  \"/>\n",
       "<circle clip-path=\"url(#clip220)\" cx=\"1756.53\" cy=\"147.058\" r=\"23.04\" fill=\"#e26f46\" fill-rule=\"evenodd\" fill-opacity=\"1\" stroke=\"#000000\" stroke-opacity=\"1\" stroke-width=\"5.12\"/>\n",
       "<path clip-path=\"url(#clip220)\" d=\"M1851.6 129.778 L1873.45 129.778 L1873.45 133.713 L1856.28 133.713 L1856.28 143.944 L1872.74 143.944 L1872.74 147.879 L1856.28 147.879 L1856.28 160.402 L1873.87 160.402 L1873.87 164.338 L1851.6 164.338 L1851.6 129.778 Z\" fill=\"#000000\" fill-rule=\"evenodd\" fill-opacity=\"1\" /><path clip-path=\"url(#clip220)\" d=\"M1896.39 142.393 Q1895.68 141.977 1894.82 141.791 Q1893.99 141.583 1892.97 141.583 Q1889.36 141.583 1887.41 143.944 Q1885.49 146.282 1885.49 150.68 L1885.49 164.338 L1881.21 164.338 L1881.21 138.412 L1885.49 138.412 L1885.49 142.44 Q1886.83 140.078 1888.99 138.944 Q1891.14 137.787 1894.22 137.787 Q1894.66 137.787 1895.19 137.856 Q1895.72 137.903 1896.37 138.018 L1896.39 142.393 Z\" fill=\"#000000\" fill-rule=\"evenodd\" fill-opacity=\"1\" /><path clip-path=\"url(#clip220)\" d=\"M1915.05 142.393 Q1914.33 141.977 1913.48 141.791 Q1912.64 141.583 1911.62 141.583 Q1908.01 141.583 1906.07 143.944 Q1904.15 146.282 1904.15 150.68 L1904.15 164.338 L1899.87 164.338 L1899.87 138.412 L1904.15 138.412 L1904.15 142.44 Q1905.49 140.078 1907.64 138.944 Q1909.8 137.787 1912.87 137.787 Q1913.31 137.787 1913.85 137.856 Q1914.38 137.903 1915.03 138.018 L1915.05 142.393 Z\" fill=\"#000000\" fill-rule=\"evenodd\" fill-opacity=\"1\" /><path clip-path=\"url(#clip220)\" d=\"M1928.52 141.398 Q1925.1 141.398 1923.11 144.083 Q1921.12 146.745 1921.12 151.398 Q1921.12 156.051 1923.08 158.736 Q1925.07 161.398 1928.52 161.398 Q1931.93 161.398 1933.92 158.713 Q1935.91 156.027 1935.91 151.398 Q1935.91 146.791 1933.92 144.106 Q1931.93 141.398 1928.52 141.398 M1928.52 137.787 Q1934.08 137.787 1937.25 141.398 Q1940.42 145.009 1940.42 151.398 Q1940.42 157.764 1937.25 161.398 Q1934.08 165.009 1928.52 165.009 Q1922.94 165.009 1919.77 161.398 Q1916.62 157.764 1916.62 151.398 Q1916.62 145.009 1919.77 141.398 Q1922.94 137.787 1928.52 137.787 Z\" fill=\"#000000\" fill-rule=\"evenodd\" fill-opacity=\"1\" /><path clip-path=\"url(#clip220)\" d=\"M1962.5 142.393 Q1961.79 141.977 1960.93 141.791 Q1960.1 141.583 1959.08 141.583 Q1955.47 141.583 1953.52 143.944 Q1951.6 146.282 1951.6 150.68 L1951.6 164.338 L1947.32 164.338 L1947.32 138.412 L1951.6 138.412 L1951.6 142.44 Q1952.94 140.078 1955.1 138.944 Q1957.25 137.787 1960.33 137.787 Q1960.77 137.787 1961.3 137.856 Q1961.83 137.903 1962.48 138.018 L1962.5 142.393 Z\" fill=\"#000000\" fill-rule=\"evenodd\" fill-opacity=\"1\" /><path clip-path=\"url(#clip220)\" d=\"M1983.5 139.176 L1983.5 143.203 Q1981.69 142.277 1979.75 141.815 Q1977.8 141.352 1975.72 141.352 Q1972.55 141.352 1970.95 142.324 Q1969.38 143.296 1969.38 145.24 Q1969.38 146.722 1970.51 147.578 Q1971.65 148.412 1975.07 149.176 L1976.53 149.5 Q1981.07 150.472 1982.97 152.254 Q1984.89 154.014 1984.89 157.185 Q1984.89 160.796 1982.02 162.902 Q1979.17 165.009 1974.17 165.009 Q1972.09 165.009 1969.82 164.592 Q1967.57 164.199 1965.07 163.388 L1965.07 158.99 Q1967.43 160.217 1969.73 160.842 Q1972.02 161.444 1974.26 161.444 Q1977.27 161.444 1978.89 160.426 Q1980.51 159.384 1980.51 157.509 Q1980.51 155.773 1979.33 154.847 Q1978.17 153.921 1974.22 153.064 L1972.74 152.717 Q1968.78 151.884 1967.02 150.171 Q1965.26 148.435 1965.26 145.426 Q1965.26 141.768 1967.85 139.778 Q1970.44 137.787 1975.21 137.787 Q1977.57 137.787 1979.66 138.134 Q1981.74 138.481 1983.5 139.176 Z\" fill=\"#000000\" fill-rule=\"evenodd\" fill-opacity=\"1\" /><path clip-path=\"url(#clip220)\" d=\"M2018.52 151.305 Q2013.36 151.305 2011.37 152.486 Q2009.38 153.666 2009.38 156.514 Q2009.38 158.782 2010.86 160.125 Q2012.36 161.444 2014.93 161.444 Q2018.48 161.444 2020.61 158.944 Q2022.76 156.421 2022.76 152.254 L2022.76 151.305 L2018.52 151.305 M2027.02 149.546 L2027.02 164.338 L2022.76 164.338 L2022.76 160.402 Q2021.3 162.763 2019.12 163.898 Q2016.95 165.009 2013.8 165.009 Q2009.82 165.009 2007.46 162.787 Q2005.12 160.541 2005.12 156.791 Q2005.12 152.416 2008.04 150.194 Q2010.98 147.972 2016.79 147.972 L2022.76 147.972 L2022.76 147.555 Q2022.76 144.615 2020.81 143.018 Q2018.89 141.398 2015.4 141.398 Q2013.17 141.398 2011.07 141.93 Q2008.96 142.463 2007.02 143.527 L2007.02 139.592 Q2009.36 138.69 2011.55 138.25 Q2013.75 137.787 2015.84 137.787 Q2021.46 137.787 2024.24 140.703 Q2027.02 143.62 2027.02 149.546 Z\" fill=\"#000000\" fill-rule=\"evenodd\" fill-opacity=\"1\" /><path clip-path=\"url(#clip220)\" d=\"M2040 131.051 L2040 138.412 L2048.78 138.412 L2048.78 141.722 L2040 141.722 L2040 155.796 Q2040 158.967 2040.86 159.87 Q2041.74 160.773 2044.4 160.773 L2048.78 160.773 L2048.78 164.338 L2044.4 164.338 Q2039.47 164.338 2037.6 162.509 Q2035.72 160.657 2035.72 155.796 L2035.72 141.722 L2032.6 141.722 L2032.6 138.412 L2035.72 138.412 L2035.72 131.051 L2040 131.051 Z\" fill=\"#000000\" fill-rule=\"evenodd\" fill-opacity=\"1\" /><path clip-path=\"url(#clip220)\" d=\"M2091 138.412 L2081.62 151.027 L2091.48 164.338 L2086.46 164.338 L2078.92 154.152 L2071.37 164.338 L2066.35 164.338 L2076.42 150.773 L2067.2 138.412 L2072.23 138.412 L2079.1 147.648 L2085.98 138.412 L2091 138.412 Z\" fill=\"#000000\" fill-rule=\"evenodd\" fill-opacity=\"1\" /><path clip-path=\"url(#clip220)\" d=\"M2113.13 142.81 L2142.8 142.81 L2142.8 146.699 L2113.13 146.699 L2113.13 142.81 M2113.13 152.254 L2142.8 152.254 L2142.8 156.189 L2113.13 156.189 L2113.13 152.254 Z\" fill=\"#000000\" fill-rule=\"evenodd\" fill-opacity=\"1\" /><path clip-path=\"url(#clip220)\" d=\"M2177.97 132.856 Q2174.35 132.856 2172.53 136.421 Q2170.72 139.963 2170.72 147.092 Q2170.72 154.199 2172.53 157.764 Q2174.35 161.305 2177.97 161.305 Q2181.6 161.305 2183.41 157.764 Q2185.23 154.199 2185.23 147.092 Q2185.23 139.963 2183.41 136.421 Q2181.6 132.856 2177.97 132.856 M2177.97 129.153 Q2183.78 129.153 2186.83 133.759 Q2189.91 138.342 2189.91 147.092 Q2189.91 155.819 2186.83 160.426 Q2183.78 165.009 2177.97 165.009 Q2172.16 165.009 2169.08 160.426 Q2166.02 155.819 2166.02 147.092 Q2166.02 138.342 2169.08 133.759 Q2172.16 129.153 2177.97 129.153 Z\" fill=\"#000000\" fill-rule=\"evenodd\" fill-opacity=\"1\" /><path clip-path=\"url(#clip220)\" d=\"M2198.13 158.458 L2203.01 158.458 L2203.01 164.338 L2198.13 164.338 L2198.13 158.458 Z\" fill=\"#000000\" fill-rule=\"evenodd\" fill-opacity=\"1\" /><path clip-path=\"url(#clip220)\" d=\"M2214.01 160.402 L2221.65 160.402 L2221.65 134.037 L2213.34 135.703 L2213.34 131.444 L2221.6 129.778 L2226.28 129.778 L2226.28 160.402 L2233.91 160.402 L2233.91 164.338 L2214.01 164.338 L2214.01 160.402 Z\" fill=\"#000000\" fill-rule=\"evenodd\" fill-opacity=\"1\" /></svg>\n"
      ]
     },
     "execution_count": 42,
     "metadata": {},
     "output_type": "execute_result"
    }
   ],
   "source": [
    "plot(ms,data,yaxis = :log, label = \"\", grid = true, framestyle = :box)\n",
    "plot!(ms,data,yaxis = :log, seriestype = :scatter, label = \"Errors at x = 0.1\")"
   ]
  },
  {
   "cell_type": "markdown",
   "id": "2205fcad",
   "metadata": {},
   "source": [
    "## Differentiation\n",
    "\n",
    "To work out how to approximate derivatives, we differentiate\n",
    "\n",
    "\\begin{align*}\n",
    "I_Nf(x) = \\frac{1}{m} \\sum_{j = - N_-}^{N_+} \\check c_{j}(f) e^{\\pi i j x/L}\n",
    "\\end{align*}\n",
    "\n",
    "giving\n",
    "\n",
    "\\begin{align*}\n",
    "\\frac{d^k}{dx^k} I_Nf(x) = \\frac{1}{m} \\sum_{\\omega = - N_-}^{N_+} \\check c_{j}(f) (\\pi i j/L)^k e^{\\pi i j x/L}\n",
    "\\end{align*}"
   ]
  },
  {
   "cell_type": "code",
   "execution_count": 43,
   "id": "57e25898",
   "metadata": {},
   "outputs": [
    {
     "data": {
      "text/plain": [
       "#63 (generic function with 1 method)"
      ]
     },
     "execution_count": 43,
     "metadata": {},
     "output_type": "execute_result"
    }
   ],
   "source": [
    "diffvec = (L,m,k) -> ((-floor(m/2):1:floor((m-1)/2))*(1im*pi/L)).^k"
   ]
  },
  {
   "cell_type": "code",
   "execution_count": 44,
   "id": "d4879d58",
   "metadata": {},
   "outputs": [
    {
     "data": {
      "text/plain": [
       "diff (generic function with 8 methods)"
      ]
     },
     "execution_count": 44,
     "metadata": {},
     "output_type": "execute_result"
    }
   ],
   "source": [
    "function diff(tr::trig_interp,j=1)\n",
    "    return trig_interp(tr.L,diffvec(L,length(tr.c),j).*tr.c)\n",
    "end"
   ]
  },
  {
   "cell_type": "code",
   "execution_count": 46,
   "id": "26f7fa00",
   "metadata": {},
   "outputs": [],
   "source": [
    "L = 10.\n",
    "m = 51\n",
    "X = mgrid(m,L)\n",
    "f = x -> exp.(-cos.(pi*x/L))\n",
    "df = x -> f(x).*(pi/L)*sin.(pi*x/L)\n",
    "fm = trig_interp(L,mfft(f(X)));\n",
    "dfm = diff(fm);"
   ]
  },
  {
   "cell_type": "code",
   "execution_count": 47,
   "id": "5de6c850",
   "metadata": {},
   "outputs": [
    {
     "data": {
      "text/plain": [
       "1.7286519438108883e-15 + 4.580519816164263e-16im"
      ]
     },
     "execution_count": 47,
     "metadata": {},
     "output_type": "execute_result"
    }
   ],
   "source": [
    "dfm(.1) - df(.1)"
   ]
  },
  {
   "cell_type": "code",
   "execution_count": null,
   "id": "52230202",
   "metadata": {
    "scrolled": true
   },
   "outputs": [],
   "source": [
    "dfm"
   ]
  }
 ],
 "metadata": {
  "kernelspec": {
   "display_name": "Julia 1.8.5",
   "language": "julia",
   "name": "julia-1.8"
  },
  "language_info": {
   "file_extension": ".jl",
   "mimetype": "application/julia",
   "name": "julia",
   "version": "1.8.5"
  }
 },
 "nbformat": 4,
 "nbformat_minor": 5
}
