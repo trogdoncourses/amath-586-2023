{
 "cells": [
  {
   "cell_type": "code",
   "execution_count": 1,
   "id": "02e35957",
   "metadata": {},
   "outputs": [],
   "source": [
    "using LinearAlgebra, Plots, Printf, SparseArrays, IterativeSolvers, LaTeXStrings"
   ]
  },
  {
   "cell_type": "markdown",
   "id": "86525826",
   "metadata": {},
   "source": [
    "The conjugate gradient algorithm"
   ]
  },
  {
   "cell_type": "code",
   "execution_count": 50,
   "id": "1e87511f",
   "metadata": {},
   "outputs": [
    {
     "data": {
      "text/plain": [
       "CG (generic function with 3 methods)"
      ]
     },
     "execution_count": 50,
     "metadata": {},
     "output_type": "execute_result"
    }
   ],
   "source": [
    "function CG(f,b,⋄,eps::Float64;kmax = 1e6, resflag = false)\n",
    "   x = 0.0*b; r = b; p = r; n = 0;\n",
    "   for j = 1:kmax\n",
    "        n = j\n",
    "        q = f(p)\n",
    "        a = (r⋄r)/(p⋄q)\n",
    "        x = x + a*p\n",
    "        r_old = r\n",
    "        r = r - a*q\n",
    "        if resflag\n",
    "            println(sqrt(r⋄r))\n",
    "        end\n",
    "        if sqrt(r⋄r) < eps\n",
    "            break\n",
    "        end\n",
    "        b = (r⋄r)/(r_old⋄r_old)\n",
    "        p = r + b*p\n",
    "        \n",
    "    end\n",
    "    @printf(\"CG took %i iterations\",n)\n",
    "    x\n",
    "end"
   ]
  },
  {
   "cell_type": "code",
   "execution_count": 3,
   "id": "256953c5",
   "metadata": {},
   "outputs": [],
   "source": [
    "A = SymTridiagonal(fill(2.0,10),fill(-1.0,9));\n",
    "b = randn(10);"
   ]
  },
  {
   "cell_type": "code",
   "execution_count": 4,
   "id": "eaca22e2",
   "metadata": {},
   "outputs": [
    {
     "name": "stdout",
     "output_type": "stream",
     "text": [
      "CG took 11 iterations"
     ]
    },
    {
     "data": {
      "text/plain": [
       "1.3710242980056706e-15"
      ]
     },
     "execution_count": 4,
     "metadata": {},
     "output_type": "execute_result"
    }
   ],
   "source": [
    "x = CG(A,b,1e-16);\n",
    "x - A\\b |> norm"
   ]
  },
  {
   "cell_type": "markdown",
   "id": "ebdaad88",
   "metadata": {},
   "source": [
    "The conjugate gradient algorithm for general linear functions and inner products"
   ]
  },
  {
   "cell_type": "code",
   "execution_count": 51,
   "id": "2df27ab5",
   "metadata": {},
   "outputs": [
    {
     "data": {
      "text/plain": [
       "CG (generic function with 3 methods)"
      ]
     },
     "execution_count": 51,
     "metadata": {},
     "output_type": "execute_result"
    }
   ],
   "source": [
    "function CG(f,g,b,⋄,eps::Float64;kmax = 1e6, resflag = false)\n",
    "   x = 0.0*b; r = b; n = 0; z = g(r);  p = z;\n",
    "   for j = 1:kmax\n",
    "        n = j\n",
    "        w = f(p)\n",
    "        a = (z⋄r)/(p⋄w)\n",
    "        x = x + a*p\n",
    "        r_old = r\n",
    "        z_old = z\n",
    "        r = r - a*w\n",
    "        if resflag\n",
    "            println(sqrt(r⋄r))\n",
    "        end\n",
    "        if sqrt(r⋄r) < eps\n",
    "            break\n",
    "        end\n",
    "        z = g(r)\n",
    "        b = (z⋄r)/(z_old⋄r_old)\n",
    "        p = z + b*p \n",
    "    end\n",
    "    @printf(\"CG took %i iterations \\n\",n)\n",
    "    x\n",
    "end"
   ]
  },
  {
   "cell_type": "code",
   "execution_count": 6,
   "id": "e4192cd8",
   "metadata": {},
   "outputs": [
    {
     "data": {
      "text/plain": [
       "⋄ (generic function with 1 method)"
      ]
     },
     "execution_count": 6,
     "metadata": {},
     "output_type": "execute_result"
    }
   ],
   "source": [
    "f = x -> A*x\n",
    "function ⋄(x,y)\n",
    "    x'*y\n",
    "end"
   ]
  },
  {
   "cell_type": "code",
   "execution_count": 7,
   "id": "8aa7e0f8",
   "metadata": {},
   "outputs": [
    {
     "name": "stdout",
     "output_type": "stream",
     "text": [
      "CG took 11 iterations"
     ]
    },
    {
     "data": {
      "text/plain": [
       "1.3710242980056706e-15"
      ]
     },
     "execution_count": 7,
     "metadata": {},
     "output_type": "execute_result"
    }
   ],
   "source": [
    "x = CG(f,b,⋄,1e-16)\n",
    "A\\b - x |> norm"
   ]
  },
  {
   "cell_type": "markdown",
   "id": "c831a588",
   "metadata": {},
   "source": [
    "Sylvester matrix equations\n",
    "\n",
    "$$ A X + X B = C.$$"
   ]
  },
  {
   "cell_type": "code",
   "execution_count": 8,
   "id": "2f00cb59",
   "metadata": {},
   "outputs": [],
   "source": [
    "n = 400;\n",
    "C = randn(n,n);\n",
    "A = SymTridiagonal(fill(2.0,n),fill(-1.0,n-1));"
   ]
  },
  {
   "cell_type": "code",
   "execution_count": 9,
   "id": "24004854",
   "metadata": {},
   "outputs": [
    {
     "data": {
      "text/plain": [
       "⋄ (generic function with 1 method)"
      ]
     },
     "execution_count": 9,
     "metadata": {},
     "output_type": "execute_result"
    }
   ],
   "source": [
    "f = x -> A*x + x*A\n",
    "function ⋄(x,y)\n",
    "    dot(x,y)\n",
    "end"
   ]
  },
  {
   "cell_type": "code",
   "execution_count": 10,
   "id": "791982ca",
   "metadata": {},
   "outputs": [
    {
     "data": {
      "text/plain": [
       "160000"
      ]
     },
     "execution_count": 10,
     "metadata": {},
     "output_type": "execute_result"
    }
   ],
   "source": [
    "400^2"
   ]
  },
  {
   "cell_type": "code",
   "execution_count": 11,
   "id": "d21ea10f",
   "metadata": {},
   "outputs": [
    {
     "name": "stdout",
     "output_type": "stream",
     "text": [
      "CG took 1932 iterations"
     ]
    },
    {
     "data": {
      "text/plain": [
       "400×400 Matrix{Float64}:\n",
       " -0.292761   -0.301778   -0.0585905  …  -0.255535  -0.181207  -0.0623019\n",
       "  0.0674041  -0.341596   -0.0382994     -0.275753  -0.338181  -0.276095\n",
       "  0.277934    0.0933124   0.266232      -0.319016  -0.385177   0.00677955\n",
       "  0.667992    0.360568    0.587438      -0.670215  -0.285719   0.0091249\n",
       "  0.622536    0.836138    0.939917      -0.89596   -0.636492  -0.50535\n",
       "  1.34955     1.51318     1.21467    …  -1.67871   -0.774428  -0.53889\n",
       "  1.19384     1.35076     0.933788      -1.95738   -1.34777   -1.04857\n",
       "  0.824516    1.02891     0.495674      -2.37541   -1.91975   -0.863564\n",
       "  0.111268    0.347568   -0.049965      -2.63596   -1.87745   -0.779982\n",
       " -0.326915   -0.164533   -0.20895       -3.01238   -2.30556   -1.57703\n",
       "  0.436721   -0.426621   -0.0438447  …  -2.93981   -2.45286   -1.36229\n",
       "  0.636102    0.397783    0.130832      -3.43234   -2.47323   -1.27447\n",
       "  0.690414    0.270047    0.20824       -3.76496   -2.7621    -1.20879\n",
       "  ⋮                                  ⋱                        \n",
       " -0.869956   -1.38744    -2.17715       -3.99064   -2.93879   -1.33456\n",
       " -0.875243   -1.09609    -1.50552       -3.4858    -2.0544    -0.875099\n",
       " -0.856434   -1.50024    -1.48339    …  -2.07077   -0.988405  -0.293494\n",
       " -0.673068   -1.21515    -1.89153       -2.25901   -0.689189  -0.125157\n",
       " -1.13651    -1.38637    -1.92617       -2.13897   -0.891853  -0.66331\n",
       " -0.998434   -0.934755   -1.99509       -1.85524   -0.956918  -0.584795\n",
       " -0.753212   -0.985813   -1.34921       -1.61887   -0.922254  -0.191224\n",
       " -0.132373   -0.983548   -1.50089    …  -1.85355   -1.53349   -0.73763\n",
       " -0.0791654  -0.505168   -1.1054        -2.04552   -1.1815    -0.506789\n",
       " -0.250522   -0.571521   -1.02481       -1.14664   -0.394605  -0.253539\n",
       " -0.256376   -0.708941   -1.05295       -0.963466  -0.710199   0.00945171\n",
       "  0.175335   -0.57152    -0.403571      -0.826947  -0.319641  -0.186476"
      ]
     },
     "execution_count": 11,
     "metadata": {},
     "output_type": "execute_result"
    }
   ],
   "source": [
    "X = CG(f,C,⋄,1e-16)"
   ]
  },
  {
   "cell_type": "markdown",
   "id": "a7a8aed9",
   "metadata": {},
   "source": [
    "Preconditioned CG"
   ]
  },
  {
   "cell_type": "code",
   "execution_count": 12,
   "id": "77393d3c",
   "metadata": {},
   "outputs": [
    {
     "data": {
      "text/plain": [
       "CG (generic function with 3 methods)"
      ]
     },
     "execution_count": 12,
     "metadata": {},
     "output_type": "execute_result"
    }
   ],
   "source": [
    "function CG(f,g,b,⋄,eps::Float64)\n",
    "   x = 0.0*b; r = b; n = 0; z = g(r);  p = z;\n",
    "   for j = 1:1e6\n",
    "        n = j\n",
    "        w = f(p)\n",
    "        a = (z⋄r)/(p⋄w)\n",
    "        x = x + a*p\n",
    "        r_old = r\n",
    "        z_old = z\n",
    "        r = r - a*w\n",
    "        if sqrt(r⋄r) < eps\n",
    "            break\n",
    "        end\n",
    "        z = g(r)\n",
    "        b = (z⋄r)/(z_old⋄r_old)\n",
    "        p = z + b*p \n",
    "    end\n",
    "    @printf(\"CG took %i iterations \\n\",n)\n",
    "    x\n",
    "end"
   ]
  },
  {
   "cell_type": "markdown",
   "id": "2ccd3de8",
   "metadata": {},
   "source": [
    "Test in trivial case"
   ]
  },
  {
   "cell_type": "code",
   "execution_count": 13,
   "id": "24c76d2a",
   "metadata": {},
   "outputs": [],
   "source": [
    "A = SymTridiagonal(fill(2.0,10),fill(-1.0,9));\n",
    "b = randn(10);"
   ]
  },
  {
   "cell_type": "code",
   "execution_count": 14,
   "id": "0fe2fbd8",
   "metadata": {},
   "outputs": [
    {
     "data": {
      "text/plain": [
       "#7 (generic function with 1 method)"
      ]
     },
     "execution_count": 14,
     "metadata": {},
     "output_type": "execute_result"
    }
   ],
   "source": [
    "f = x -> A*x\n",
    "function ⋄(x,y)\n",
    "    dot(x,y)\n",
    "end\n",
    "g = x -> A\\x"
   ]
  },
  {
   "cell_type": "code",
   "execution_count": 15,
   "id": "1bdaa98a",
   "metadata": {},
   "outputs": [
    {
     "name": "stdout",
     "output_type": "stream",
     "text": [
      "CG took 1 iterations \n"
     ]
    },
    {
     "data": {
      "text/plain": [
       "10-element Vector{Float64}:\n",
       " -1.0481084529847624\n",
       " -0.7172522557586231\n",
       "  0.11550792140461674\n",
       "  0.0719361443739376\n",
       "  0.016515435735016345\n",
       "  0.7285848279710132\n",
       "  1.0908412213629224\n",
       "  0.7734308438652752\n",
       " -0.5336302979831764\n",
       " -0.5637861903880412"
      ]
     },
     "execution_count": 15,
     "metadata": {},
     "output_type": "execute_result"
    }
   ],
   "source": [
    "x = CG(f,g,b,⋄,1e-15)"
   ]
  },
  {
   "cell_type": "markdown",
   "id": "72c60639",
   "metadata": {},
   "source": [
    "Back to the Sylvester equation"
   ]
  },
  {
   "cell_type": "code",
   "execution_count": 45,
   "id": "7738d123",
   "metadata": {},
   "outputs": [
    {
     "data": {
      "text/plain": [
       "0.0005"
      ]
     },
     "execution_count": 45,
     "metadata": {},
     "output_type": "execute_result"
    }
   ],
   "source": [
    "m = 1999;\n",
    "h = 1/(m+1)"
   ]
  },
  {
   "cell_type": "code",
   "execution_count": 46,
   "id": "73abdd30",
   "metadata": {},
   "outputs": [],
   "source": [
    "C = spzeros(m,m);\n",
    "C[1,:] += rand(m)\n",
    "C[end,:] += rand(m)\n",
    "C[:,1] += rand(m)\n",
    "C[:,end] += rand(m)\n",
    "C *= h^(-2)\n",
    "A = SymTridiagonal(fill(2.0,m),fill(-1.0,m-1))/h^2;"
   ]
  },
  {
   "cell_type": "code",
   "execution_count": 47,
   "id": "4e7fac1f",
   "metadata": {},
   "outputs": [
    {
     "data": {
      "text/plain": [
       "#41 (generic function with 1 method)"
      ]
     },
     "execution_count": 47,
     "metadata": {},
     "output_type": "execute_result"
    }
   ],
   "source": [
    "f = X -> A*X + X*A\n",
    "function ⋄(X,Y)\n",
    "    h^2*dot(X,Y)\n",
    "end\n",
    "g = X -> (.5A+I/h^2)\\((.5A+I/h^2)\\X')'\n",
    "#g = X -> (A+2I/h^2)\\X\n",
    "g = X -> h^2/4*X"
   ]
  },
  {
   "cell_type": "code",
   "execution_count": 53,
   "id": "178c7fc8",
   "metadata": {},
   "outputs": [
    {
     "name": "stdout",
     "output_type": "stream",
     "text": [
      "CG took 100 iterations  8.151900 seconds (3.75 k allocations: 26.796 GiB, 23.22% gc time)\n"
     ]
    }
   ],
   "source": [
    "@time X1 = CG(f,C,⋄,h^2; kmax = 100, resflag = false);"
   ]
  },
  {
   "cell_type": "code",
   "execution_count": 40,
   "id": "e3202160",
   "metadata": {},
   "outputs": [
    {
     "data": {
      "text/plain": [
       "2401"
      ]
     },
     "execution_count": 40,
     "metadata": {},
     "output_type": "execute_result"
    }
   ],
   "source": [
    "49*49"
   ]
  },
  {
   "cell_type": "code",
   "execution_count": 54,
   "id": "22cb5315",
   "metadata": {},
   "outputs": [
    {
     "name": "stdout",
     "output_type": "stream",
     "text": [
      "61627.80233470201\n",
      "44333.23907392437\n",
      "33796.10889754335\n",
      "27970.53421134213\n",
      "23307.057691225596\n",
      "20410.133256160436\n",
      "17792.93153728655\n",
      "16060.12573254482\n",
      "14388.535247511749\n",
      "13237.050914722447\n",
      "CG took 10 iterations  1.212614 seconds (6.97 k allocations: 2.681 GiB, 29.28% gc time, 0.89% compilation time)\n"
     ]
    }
   ],
   "source": [
    "@time X2 = CG(f,C,⋄,1e-4; resflag = true, kmax = 10);"
   ]
  },
  {
   "cell_type": "code",
   "execution_count": 55,
   "id": "f0c0d32d",
   "metadata": {},
   "outputs": [
    {
     "name": "stdout",
     "output_type": "stream",
     "text": [
      "61627.80233470231\n",
      "44333.23907392458\n",
      "33796.108897543505\n",
      "27970.534211342256\n",
      "23307.057691225706\n",
      "20410.133256160516\n",
      "17792.931537286615\n",
      "16060.12573254488\n",
      "14388.535247511803\n",
      "13237.050914722495\n",
      "CG took 10 iterations \n",
      "  1.148125 seconds (158.42 k allocations: 2.987 GiB, 18.37% gc time, 7.62% compilation time)\n"
     ]
    }
   ],
   "source": [
    "g = X -> h^2/4*X\n",
    "@time X2 = CG(f,g,C,⋄,1e-4; resflag = true, kmax = 10);"
   ]
  },
  {
   "cell_type": "markdown",
   "id": "1638e750",
   "metadata": {},
   "source": [
    "Jacobi"
   ]
  },
  {
   "cell_type": "code",
   "execution_count": 24,
   "id": "87e2997a",
   "metadata": {},
   "outputs": [],
   "source": [
    "Ad = SymTridiagonal(fill(0.0,m),fill(-1.0,m-1))*1/4;\n",
    "Cd = C*h^2/4;"
   ]
  },
  {
   "cell_type": "code",
   "execution_count": 25,
   "id": "f9475af8",
   "metadata": {},
   "outputs": [],
   "source": [
    "f_jac = X -> -Ad*X - X*Ad\n",
    "X = 0*C;"
   ]
  },
  {
   "cell_type": "code",
   "execution_count": 26,
   "id": "f45e78d3",
   "metadata": {},
   "outputs": [
    {
     "name": "stdout",
     "output_type": "stream",
     "text": [
      "Jacobi took 4206 iterations"
     ]
    }
   ],
   "source": [
    "for i = 1:150000\n",
    "    Xnew = f_jac(X) + Cd\n",
    "    if norm(X-Xnew) < 1e-5\n",
    "        @printf(\"Jacobi took %i iterations\",i)\n",
    "        break\n",
    "    end\n",
    "    X = Xnew\n",
    "end"
   ]
  },
  {
   "cell_type": "code",
   "execution_count": null,
   "id": "9d2c1590",
   "metadata": {},
   "outputs": [],
   "source": []
  }
 ],
 "metadata": {
  "kernelspec": {
   "display_name": "Julia 1.8.5",
   "language": "julia",
   "name": "julia-1.8"
  },
  "language_info": {
   "file_extension": ".jl",
   "mimetype": "application/julia",
   "name": "julia",
   "version": "1.8.5"
  }
 },
 "nbformat": 4,
 "nbformat_minor": 5
}
