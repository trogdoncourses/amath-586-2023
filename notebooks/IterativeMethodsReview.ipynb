{
 "cells": [
  {
   "cell_type": "code",
   "execution_count": 1,
   "id": "02e35957",
   "metadata": {},
   "outputs": [],
   "source": [
    "using LinearAlgebra, Plots, Printf, SparseArrays, IterativeSolvers, LaTeXStrings"
   ]
  },
  {
   "cell_type": "markdown",
   "id": "86525826",
   "metadata": {},
   "source": [
    "The conjugate gradient algorithm"
   ]
  },
  {
   "cell_type": "code",
   "execution_count": 2,
   "id": "1e87511f",
   "metadata": {},
   "outputs": [
    {
     "data": {
      "text/plain": [
       "CG (generic function with 1 method)"
      ]
     },
     "execution_count": 2,
     "metadata": {},
     "output_type": "execute_result"
    }
   ],
   "source": [
    "function CG(A,b,eps::Float64)\n",
    "   x = 0.0*b; r = b; p = r; n = 0;\n",
    "   for j = 1:1e6\n",
    "        n = j\n",
    "        q = A*p\n",
    "        a = (r'*r)/(p'*q)\n",
    "        x = x + a*p\n",
    "        r_old = r\n",
    "        r = r - a*q\n",
    "        if norm(r) < eps\n",
    "            break\n",
    "        end\n",
    "        b = (r'*r)/(r_old'*r_old)\n",
    "        p = r + b*p \n",
    "    end\n",
    "    @printf(\"CG took %i iterations\",n)\n",
    "    x\n",
    "end"
   ]
  },
  {
   "cell_type": "code",
   "execution_count": 3,
   "id": "256953c5",
   "metadata": {},
   "outputs": [],
   "source": [
    "A = SymTridiagonal(fill(2.0,10),fill(-1.0,9));\n",
    "b = randn(10);"
   ]
  },
  {
   "cell_type": "code",
   "execution_count": 18,
   "id": "eaca22e2",
   "metadata": {},
   "outputs": [
    {
     "name": "stdout",
     "output_type": "stream",
     "text": [
      "CG took 11 iterations"
     ]
    },
    {
     "data": {
      "text/plain": [
       "5.0292000132872715e-15"
      ]
     },
     "execution_count": 18,
     "metadata": {},
     "output_type": "execute_result"
    }
   ],
   "source": [
    "x = CG(A,b,1e-16);\n",
    "x - A\\b |> norm"
   ]
  },
  {
   "cell_type": "markdown",
   "id": "ebdaad88",
   "metadata": {},
   "source": [
    "The conjugate gradient algorithm for general linear functions and inner products"
   ]
  },
  {
   "cell_type": "code",
   "execution_count": 15,
   "id": "2df27ab5",
   "metadata": {},
   "outputs": [
    {
     "data": {
      "text/plain": [
       "CG (generic function with 2 methods)"
      ]
     },
     "execution_count": 15,
     "metadata": {},
     "output_type": "execute_result"
    }
   ],
   "source": [
    "function CG(f,b,⋄,eps::Float64)\n",
    "   x = 0.0*b; r = b; p = r; n = 0;\n",
    "   for j = 1:1e6\n",
    "        n = j\n",
    "        q = f(p)\n",
    "        a = (r⋄r)/(p⋄q)\n",
    "        x = x + a*p\n",
    "        r_old = r\n",
    "        r = r - a*q\n",
    "        if sqrt(r⋄r) < eps\n",
    "            break\n",
    "        end\n",
    "        b = (r⋄r)/(r_old⋄r_old)\n",
    "        p = r + b*p\n",
    "        \n",
    "    end\n",
    "    @printf(\"CG took %i iterations\",n)\n",
    "    x\n",
    "end"
   ]
  },
  {
   "cell_type": "code",
   "execution_count": 16,
   "id": "e4192cd8",
   "metadata": {},
   "outputs": [
    {
     "data": {
      "text/plain": [
       "⋄ (generic function with 1 method)"
      ]
     },
     "execution_count": 16,
     "metadata": {},
     "output_type": "execute_result"
    }
   ],
   "source": [
    "f = x -> A*x\n",
    "function ⋄(x,y)\n",
    "    x'*y\n",
    "end"
   ]
  },
  {
   "cell_type": "code",
   "execution_count": 17,
   "id": "8aa7e0f8",
   "metadata": {},
   "outputs": [
    {
     "name": "stdout",
     "output_type": "stream",
     "text": [
      "CG took 11 iterations"
     ]
    },
    {
     "data": {
      "text/plain": [
       "5.0292000132872715e-15"
      ]
     },
     "execution_count": 17,
     "metadata": {},
     "output_type": "execute_result"
    }
   ],
   "source": [
    "x = CG(f,b,⋄,1e-16)\n",
    "A\\b - x |> norm"
   ]
  },
  {
   "cell_type": "markdown",
   "id": "c831a588",
   "metadata": {},
   "source": [
    "Sylvester matrix equations\n",
    "\n",
    "$$ A X + X B = C.$$"
   ]
  },
  {
   "cell_type": "code",
   "execution_count": 19,
   "id": "2f00cb59",
   "metadata": {},
   "outputs": [],
   "source": [
    "n = 400;\n",
    "C = randn(n,n);\n",
    "A = SymTridiagonal(fill(2.0,n),fill(-1.0,n-1));"
   ]
  },
  {
   "cell_type": "code",
   "execution_count": 20,
   "id": "24004854",
   "metadata": {},
   "outputs": [
    {
     "data": {
      "text/plain": [
       "⋄ (generic function with 1 method)"
      ]
     },
     "execution_count": 20,
     "metadata": {},
     "output_type": "execute_result"
    }
   ],
   "source": [
    "f = x -> A*x + x*A\n",
    "function ⋄(x,y)\n",
    "    dot(x,y)\n",
    "end"
   ]
  },
  {
   "cell_type": "code",
   "execution_count": 22,
   "id": "91babbb8",
   "metadata": {},
   "outputs": [
    {
     "data": {
      "text/plain": [
       "160000"
      ]
     },
     "execution_count": 22,
     "metadata": {},
     "output_type": "execute_result"
    }
   ],
   "source": [
    "400^2"
   ]
  },
  {
   "cell_type": "code",
   "execution_count": 21,
   "id": "d21ea10f",
   "metadata": {},
   "outputs": [
    {
     "name": "stdout",
     "output_type": "stream",
     "text": [
      "CG took 2124 iterations"
     ]
    },
    {
     "data": {
      "text/plain": [
       "400×400 Matrix{Float64}:\n",
       "  0.332625   -0.376226   -0.156727     …  -0.705067   -0.264146    -0.0730349\n",
       " -0.392785   -0.170162    0.978857        -0.0142598  -0.343852    -0.329874\n",
       " -0.271569   -0.203548    0.72816         -0.233676   -0.373069    -0.594348\n",
       "  0.0093113  -0.119306    0.0964358       -1.29423    -0.9713      -0.792751\n",
       " -0.512777    0.0103784   0.558012        -1.25875    -1.30946     -1.20889\n",
       " -0.559168   -0.621303    0.569803     …  -1.91806    -1.63012     -1.01456\n",
       " -0.0653703  -0.0839631   0.256966        -1.01058    -1.0594      -0.460205\n",
       " -0.272751   -0.168074    0.362716        -0.809711   -0.76449     -0.370696\n",
       "  0.250057    0.0762443   0.939809        -0.726203   -0.549268    -0.477994\n",
       " -0.172541    0.335249    0.866468        -0.0157009  -0.289189    -0.187435\n",
       " -0.296723    0.0503348   0.690393     …  -0.080591   -0.0443119   -0.431789\n",
       "  0.161481   -0.037668    0.752034         0.905705    0.694625    -0.109156\n",
       "  0.4814      0.474254    0.601285         0.816815    0.636337    -0.0132978\n",
       "  ⋮                                    ⋱                           \n",
       " -1.2        -1.50692    -1.88862          0.104729   -0.00176915  -0.0593535\n",
       " -1.14095    -1.11395    -0.819607         0.326863   -0.259687    -0.618395\n",
       " -0.265154   -0.781968   -0.665036     …  -0.388394   -0.675623    -0.481665\n",
       " -0.272909   -0.32273    -0.470762        -0.492937   -0.349488    -0.265936\n",
       "  0.0138727   0.0300486  -0.502844         0.0809503  -0.147394    -0.511088\n",
       "  0.524592    0.490949   -0.545184         0.0478112  -0.218306    -0.523275\n",
       "  0.600507    0.920113    0.0220639       -0.471414   -0.812541    -0.486913\n",
       "  0.905432    1.39757     0.699507     …  -0.851543   -0.934611    -0.443693\n",
       "  0.703294    1.39948     0.69691         -0.299937   -0.869451    -0.614594\n",
       "  0.852152    0.869397    0.400133        -0.300169   -0.335144    -0.336674\n",
       "  0.512271    0.407476    0.000805456     -0.366886   -0.4194      -0.267625\n",
       "  0.830912    0.185018    0.384528         0.295568    0.17069     -0.249381"
      ]
     },
     "execution_count": 21,
     "metadata": {},
     "output_type": "execute_result"
    }
   ],
   "source": [
    "X = CG(f,C,⋄,1e-16)"
   ]
  },
  {
   "cell_type": "markdown",
   "id": "a7a8aed9",
   "metadata": {},
   "source": [
    "Preconditioned CG"
   ]
  },
  {
   "cell_type": "code",
   "execution_count": 23,
   "id": "77393d3c",
   "metadata": {},
   "outputs": [
    {
     "data": {
      "text/plain": [
       "CG (generic function with 3 methods)"
      ]
     },
     "execution_count": 23,
     "metadata": {},
     "output_type": "execute_result"
    }
   ],
   "source": [
    "function CG(f,g,b,⋄,eps::Float64)\n",
    "   x = 0.0*b; r = b; n = 0; z = g(r);  p = z;\n",
    "   for j = 1:1e6\n",
    "        n = j\n",
    "        w = f(p)\n",
    "        a = (z⋄r)/(p⋄w)\n",
    "        x = x + a*p\n",
    "        r_old = r\n",
    "        z_old = z\n",
    "        r = r - a*w\n",
    "        if sqrt(r⋄r) < eps\n",
    "            break\n",
    "        end\n",
    "        z = g(r)\n",
    "        b = (z⋄r)/(z_old⋄r_old)\n",
    "        p = z + b*p \n",
    "    end\n",
    "    @printf(\"CG took %i iterations \\n\",n)\n",
    "    x\n",
    "end"
   ]
  },
  {
   "cell_type": "markdown",
   "id": "2ccd3de8",
   "metadata": {},
   "source": [
    "Test in trivial case"
   ]
  },
  {
   "cell_type": "code",
   "execution_count": 24,
   "id": "24c76d2a",
   "metadata": {},
   "outputs": [],
   "source": [
    "A = SymTridiagonal(fill(2.0,10),fill(-1.0,9));\n",
    "b = randn(10);"
   ]
  },
  {
   "cell_type": "code",
   "execution_count": 25,
   "id": "0fe2fbd8",
   "metadata": {},
   "outputs": [
    {
     "data": {
      "text/plain": [
       "#7 (generic function with 1 method)"
      ]
     },
     "execution_count": 25,
     "metadata": {},
     "output_type": "execute_result"
    }
   ],
   "source": [
    "f = x -> A*x\n",
    "function ⋄(x,y)\n",
    "    dot(x,y)\n",
    "end\n",
    "g = x -> A\\x"
   ]
  },
  {
   "cell_type": "code",
   "execution_count": 26,
   "id": "1bdaa98a",
   "metadata": {},
   "outputs": [
    {
     "name": "stdout",
     "output_type": "stream",
     "text": [
      "CG took 1 iterations \n"
     ]
    },
    {
     "data": {
      "text/plain": [
       "10-element Vector{Float64}:\n",
       "  0.4172283266090589\n",
       "  1.1752533495825577\n",
       "  1.4537238432797581\n",
       "  0.5246012528123585\n",
       " -0.7772136964621085\n",
       " -1.9656454411331192\n",
       " -2.013640609240777\n",
       " -1.7354477311581817\n",
       " -2.1000190246525556\n",
       " -2.3635921937097786"
      ]
     },
     "execution_count": 26,
     "metadata": {},
     "output_type": "execute_result"
    }
   ],
   "source": [
    "x = CG(f,g,b,⋄,1e-15)"
   ]
  },
  {
   "cell_type": "markdown",
   "id": "72c60639",
   "metadata": {},
   "source": [
    "Back to the Sylvester equation"
   ]
  },
  {
   "cell_type": "code",
   "execution_count": 51,
   "id": "7738d123",
   "metadata": {},
   "outputs": [
    {
     "data": {
      "text/plain": [
       "0.02"
      ]
     },
     "execution_count": 51,
     "metadata": {},
     "output_type": "execute_result"
    }
   ],
   "source": [
    "m = 49;\n",
    "h = 1/(m+1)"
   ]
  },
  {
   "cell_type": "code",
   "execution_count": 52,
   "id": "73abdd30",
   "metadata": {},
   "outputs": [],
   "source": [
    "C = spzeros(m,m);\n",
    "C[1,:] += rand(m)\n",
    "C[end,:] += rand(m)\n",
    "C[:,1] += rand(m)\n",
    "C[:,end] += rand(m)\n",
    "C *= h^(-2)\n",
    "A = SymTridiagonal(fill(2.0,m),fill(-1.0,m-1))/h^2;"
   ]
  },
  {
   "cell_type": "code",
   "execution_count": 53,
   "id": "4e7fac1f",
   "metadata": {},
   "outputs": [
    {
     "data": {
      "text/plain": [
       "#21 (generic function with 1 method)"
      ]
     },
     "execution_count": 53,
     "metadata": {},
     "output_type": "execute_result"
    }
   ],
   "source": [
    "f = X -> A*X + X*A\n",
    "function ⋄(X,Y)\n",
    "    h^2*dot(X,Y)\n",
    "end\n",
    "g = X -> (.5A+I/h^2)\\((.5A+I/h^2)\\X')'\n",
    "#g = X -> (A+2I/h^2)\\X\n",
    "#g = X -> B\\X"
   ]
  },
  {
   "cell_type": "code",
   "execution_count": 54,
   "id": "178c7fc8",
   "metadata": {},
   "outputs": [
    {
     "name": "stdout",
     "output_type": "stream",
     "text": [
      "CG took 121 iterations  0.145612 seconds (337.57 k allocations: 40.641 MiB, 97.65% compilation time)\n"
     ]
    }
   ],
   "source": [
    "@time X1 = CG(f,C,⋄,h^2);"
   ]
  },
  {
   "cell_type": "code",
   "execution_count": 55,
   "id": "f0c0d32d",
   "metadata": {},
   "outputs": [
    {
     "name": "stdout",
     "output_type": "stream",
     "text": [
      "CG took 50 iterations \n",
      "  0.271468 seconds (932.90 k allocations: 74.183 MiB, 2.06% gc time, 98.46% compilation time)\n"
     ]
    }
   ],
   "source": [
    "@time X2 = CG(f,g,C,⋄,h^2);"
   ]
  },
  {
   "cell_type": "code",
   "execution_count": 56,
   "id": "f3987e46",
   "metadata": {},
   "outputs": [
    {
     "data": {
      "text/plain": [
       "2401×2401 SparseMatrixCSC{Float64, Int64} with 11809 stored entries:\n",
       "⢿⣷⣄⠀⠀⠀⠀⠀⠀⠀⠀⠀⠀⠀⠀⠀⠀⠀⠀⠀⠀⠀⠀⠀⠀⠀⠀⠀⠀⠀⠀⠀⠀⠀⠀⠀⠀⠀⠀⠀\n",
       "⠀⠙⢿⣷⣄⠀⠀⠀⠀⠀⠀⠀⠀⠀⠀⠀⠀⠀⠀⠀⠀⠀⠀⠀⠀⠀⠀⠀⠀⠀⠀⠀⠀⠀⠀⠀⠀⠀⠀⠀\n",
       "⠀⠀⠀⠙⢿⣷⣄⠀⠀⠀⠀⠀⠀⠀⠀⠀⠀⠀⠀⠀⠀⠀⠀⠀⠀⠀⠀⠀⠀⠀⠀⠀⠀⠀⠀⠀⠀⠀⠀⠀\n",
       "⠀⠀⠀⠀⠀⠙⢿⣷⣄⠀⠀⠀⠀⠀⠀⠀⠀⠀⠀⠀⠀⠀⠀⠀⠀⠀⠀⠀⠀⠀⠀⠀⠀⠀⠀⠀⠀⠀⠀⠀\n",
       "⠀⠀⠀⠀⠀⠀⠀⠙⢿⣷⣄⠀⠀⠀⠀⠀⠀⠀⠀⠀⠀⠀⠀⠀⠀⠀⠀⠀⠀⠀⠀⠀⠀⠀⠀⠀⠀⠀⠀⠀\n",
       "⠀⠀⠀⠀⠀⠀⠀⠀⠀⠙⢿⣷⣄⠀⠀⠀⠀⠀⠀⠀⠀⠀⠀⠀⠀⠀⠀⠀⠀⠀⠀⠀⠀⠀⠀⠀⠀⠀⠀⠀\n",
       "⠀⠀⠀⠀⠀⠀⠀⠀⠀⠀⠀⠙⢿⣷⣄⠀⠀⠀⠀⠀⠀⠀⠀⠀⠀⠀⠀⠀⠀⠀⠀⠀⠀⠀⠀⠀⠀⠀⠀⠀\n",
       "⠀⠀⠀⠀⠀⠀⠀⠀⠀⠀⠀⠀⠀⠙⢿⣷⣄⠀⠀⠀⠀⠀⠀⠀⠀⠀⠀⠀⠀⠀⠀⠀⠀⠀⠀⠀⠀⠀⠀⠀\n",
       "⠀⠀⠀⠀⠀⠀⠀⠀⠀⠀⠀⠀⠀⠀⠀⠙⢿⣷⣄⠀⠀⠀⠀⠀⠀⠀⠀⠀⠀⠀⠀⠀⠀⠀⠀⠀⠀⠀⠀⠀\n",
       "⠀⠀⠀⠀⠀⠀⠀⠀⠀⠀⠀⠀⠀⠀⠀⠀⠀⠙⢿⣷⣄⠀⠀⠀⠀⠀⠀⠀⠀⠀⠀⠀⠀⠀⠀⠀⠀⠀⠀⠀\n",
       "⠀⠀⠀⠀⠀⠀⠀⠀⠀⠀⠀⠀⠀⠀⠀⠀⠀⠀⠀⠙⢿⣷⣄⠀⠀⠀⠀⠀⠀⠀⠀⠀⠀⠀⠀⠀⠀⠀⠀⠀\n",
       "⠀⠀⠀⠀⠀⠀⠀⠀⠀⠀⠀⠀⠀⠀⠀⠀⠀⠀⠀⠀⠀⠙⢿⣷⣄⠀⠀⠀⠀⠀⠀⠀⠀⠀⠀⠀⠀⠀⠀⠀\n",
       "⠀⠀⠀⠀⠀⠀⠀⠀⠀⠀⠀⠀⠀⠀⠀⠀⠀⠀⠀⠀⠀⠀⠀⠙⢿⣷⣄⠀⠀⠀⠀⠀⠀⠀⠀⠀⠀⠀⠀⠀\n",
       "⠀⠀⠀⠀⠀⠀⠀⠀⠀⠀⠀⠀⠀⠀⠀⠀⠀⠀⠀⠀⠀⠀⠀⠀⠀⠙⢿⣷⣄⠀⠀⠀⠀⠀⠀⠀⠀⠀⠀⠀\n",
       "⠀⠀⠀⠀⠀⠀⠀⠀⠀⠀⠀⠀⠀⠀⠀⠀⠀⠀⠀⠀⠀⠀⠀⠀⠀⠀⠀⠙⢿⣷⣄⠀⠀⠀⠀⠀⠀⠀⠀⠀\n",
       "⠀⠀⠀⠀⠀⠀⠀⠀⠀⠀⠀⠀⠀⠀⠀⠀⠀⠀⠀⠀⠀⠀⠀⠀⠀⠀⠀⠀⠀⠙⢿⣷⣄⠀⠀⠀⠀⠀⠀⠀\n",
       "⠀⠀⠀⠀⠀⠀⠀⠀⠀⠀⠀⠀⠀⠀⠀⠀⠀⠀⠀⠀⠀⠀⠀⠀⠀⠀⠀⠀⠀⠀⠀⠙⢿⣷⣄⠀⠀⠀⠀⠀\n",
       "⠀⠀⠀⠀⠀⠀⠀⠀⠀⠀⠀⠀⠀⠀⠀⠀⠀⠀⠀⠀⠀⠀⠀⠀⠀⠀⠀⠀⠀⠀⠀⠀⠀⠙⢿⣷⣄⠀⠀⠀\n",
       "⠀⠀⠀⠀⠀⠀⠀⠀⠀⠀⠀⠀⠀⠀⠀⠀⠀⠀⠀⠀⠀⠀⠀⠀⠀⠀⠀⠀⠀⠀⠀⠀⠀⠀⠀⠙⢿⣷⣄⠀\n",
       "⠀⠀⠀⠀⠀⠀⠀⠀⠀⠀⠀⠀⠀⠀⠀⠀⠀⠀⠀⠀⠀⠀⠀⠀⠀⠀⠀⠀⠀⠀⠀⠀⠀⠀⠀⠀⠀⠙⢿⣷"
      ]
     },
     "execution_count": 56,
     "metadata": {},
     "output_type": "execute_result"
    }
   ],
   "source": [
    "J = kron(A |> sparse,sparse(I,m,m)) + kron(sparse(I,m,m),A |> sparse)"
   ]
  },
  {
   "cell_type": "code",
   "execution_count": 57,
   "id": "23b53488",
   "metadata": {},
   "outputs": [
    {
     "name": "stdout",
     "output_type": "stream",
     "text": [
      "  0.002183 seconds (65 allocations: 1.711 MiB)\n"
     ]
    },
    {
     "data": {
      "text/plain": [
       "2401-element Vector{Float64}:\n",
       " 0.0004144139409458678\n",
       " 0.0008299293286228247\n",
       " 0.0011327529794958762\n",
       " 0.0014077540922655556\n",
       " 0.0015677541695687893\n",
       " 0.0017152716699408528\n",
       " 0.0019170288468851003\n",
       " 0.002086985209779325\n",
       " 0.0022167998901468982\n",
       " 0.0024269397020129733\n",
       " 0.002476712277751855\n",
       " 0.0024955222942473747\n",
       " 0.0026119328411032404\n",
       " ⋮\n",
       " 0.002536987927343962\n",
       " 0.0024562076629868635\n",
       " 0.002365501929854194\n",
       " 0.0023153462846144104\n",
       " 0.0022075013204493486\n",
       " 0.0020894446063303594\n",
       " 0.0019240701418308634\n",
       " 0.0016893425266602704\n",
       " 0.001413935481608673\n",
       " 0.0011951740790384837\n",
       " 0.0008801982818542597\n",
       " 0.000457416908479172"
      ]
     },
     "execution_count": 57,
     "metadata": {},
     "output_type": "execute_result"
    }
   ],
   "source": [
    "@time J\\rand(m^2)"
   ]
  },
  {
   "cell_type": "markdown",
   "id": "1638e750",
   "metadata": {},
   "source": [
    "Jacobi"
   ]
  },
  {
   "cell_type": "code",
   "execution_count": 58,
   "id": "87e2997a",
   "metadata": {},
   "outputs": [],
   "source": [
    "Ad = SymTridiagonal(fill(0.0,m),fill(-1.0,m-1))*1/4;\n",
    "Cd = C*h^2/4;"
   ]
  },
  {
   "cell_type": "code",
   "execution_count": 59,
   "id": "f9475af8",
   "metadata": {},
   "outputs": [],
   "source": [
    "f_jac = X -> -Ad*X - X*Ad\n",
    "X = 0*C;"
   ]
  },
  {
   "cell_type": "code",
   "execution_count": 60,
   "id": "f45e78d3",
   "metadata": {},
   "outputs": [
    {
     "name": "stdout",
     "output_type": "stream",
     "text": [
      "Jacobi took 4180 iterations"
     ]
    }
   ],
   "source": [
    "for i = 1:150000\n",
    "    Xnew = f_jac(X) + Cd\n",
    "    if norm(X-Xnew) < 1e-5\n",
    "        @printf(\"Jacobi took %i iterations\",i)\n",
    "        break\n",
    "    end\n",
    "    X = Xnew\n",
    "end"
   ]
  },
  {
   "cell_type": "code",
   "execution_count": null,
   "id": "9d2c1590",
   "metadata": {},
   "outputs": [],
   "source": []
  }
 ],
 "metadata": {
  "kernelspec": {
   "display_name": "Julia 1.8.0-rc3",
   "language": "julia",
   "name": "julia-1.8"
  },
  "language_info": {
   "file_extension": ".jl",
   "mimetype": "application/julia",
   "name": "julia",
   "version": "1.8.0"
  }
 },
 "nbformat": 4,
 "nbformat_minor": 5
}
