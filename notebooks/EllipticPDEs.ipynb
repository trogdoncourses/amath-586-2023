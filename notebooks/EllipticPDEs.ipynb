{
 "cells": [
  {
   "cell_type": "code",
   "execution_count": 2,
   "id": "02e35957",
   "metadata": {},
   "outputs": [],
   "source": [
    "using LinearAlgebra, Plots, Printf, SparseArrays, IterativeSolvers\n",
    "import Base: *\n",
    "import IterativeSolvers: Adivtype"
   ]
  },
  {
   "cell_type": "markdown",
   "id": "86525826",
   "metadata": {},
   "source": [
    "The conjugate gradient algorithm"
   ]
  },
  {
   "cell_type": "code",
   "execution_count": 3,
   "id": "1e87511f",
   "metadata": {},
   "outputs": [
    {
     "data": {
      "text/plain": [
       "CG (generic function with 1 method)"
      ]
     },
     "execution_count": 3,
     "metadata": {},
     "output_type": "execute_result"
    }
   ],
   "source": [
    "function CG(A,b,eps::Float64)\n",
    "   x = 0.0*b; r = b; p = r; n = 0;\n",
    "   while norm(r) > eps\n",
    "        q = A*p\n",
    "        a = (r'*r)/(p'*q)\n",
    "        x = x + a*p\n",
    "        r_old = r\n",
    "        r = r - a*q\n",
    "        b = (r'*r)/(r_old'*r_old)\n",
    "        p = r + b*p \n",
    "        n += 1\n",
    "    end\n",
    "    @printf(\"CG took %i iterations\",n)\n",
    "    x\n",
    "end"
   ]
  },
  {
   "cell_type": "code",
   "execution_count": 4,
   "id": "256953c5",
   "metadata": {},
   "outputs": [],
   "source": [
    "A = SymTridiagonal(fill(4.0,10),fill(-1.0,9));\n",
    "b = randn(10);"
   ]
  },
  {
   "cell_type": "code",
   "execution_count": 5,
   "id": "eaca22e2",
   "metadata": {},
   "outputs": [
    {
     "name": "stdout",
     "output_type": "stream",
     "text": [
      "CG took 10 iterations"
     ]
    },
    {
     "data": {
      "text/plain": [
       "2.435541875787129e-16"
      ]
     },
     "execution_count": 5,
     "metadata": {},
     "output_type": "execute_result"
    }
   ],
   "source": [
    "x = CG(A,b,1e-16);\n",
    "x - A\\b |> norm"
   ]
  },
  {
   "cell_type": "markdown",
   "id": "ebdaad88",
   "metadata": {},
   "source": [
    "The conjugate gradient algorithm for general linear functions and inner products"
   ]
  },
  {
   "cell_type": "code",
   "execution_count": 6,
   "id": "2df27ab5",
   "metadata": {},
   "outputs": [
    {
     "data": {
      "text/plain": [
       "CG (generic function with 2 methods)"
      ]
     },
     "execution_count": 6,
     "metadata": {},
     "output_type": "execute_result"
    }
   ],
   "source": [
    "function CG(f,b,⋄,eps::Float64)\n",
    "   x = 0.0*b; r = b; p = r; n = 0;\n",
    "   while r⋅r > eps^2\n",
    "        q = f(p)\n",
    "        a = (r⋅r)/(p⋅q)\n",
    "        x = x + a*p\n",
    "        r_old = r\n",
    "        r = r - a*q\n",
    "        b = (r⋅r)/(r_old⋅r_old)\n",
    "        p = r + b*p\n",
    "        n += 1\n",
    "    end\n",
    "    @printf(\"CG took %i iterations\",n)\n",
    "    x\n",
    "end"
   ]
  },
  {
   "cell_type": "code",
   "execution_count": 7,
   "id": "e4192cd8",
   "metadata": {},
   "outputs": [
    {
     "data": {
      "text/plain": [
       "⋄ (generic function with 1 method)"
      ]
     },
     "execution_count": 7,
     "metadata": {},
     "output_type": "execute_result"
    }
   ],
   "source": [
    "f = x -> A*x\n",
    "function ⋄(x,y)\n",
    "    x'*y\n",
    "end"
   ]
  },
  {
   "cell_type": "code",
   "execution_count": 8,
   "id": "8aa7e0f8",
   "metadata": {},
   "outputs": [
    {
     "name": "stdout",
     "output_type": "stream",
     "text": [
      "CG took 10 iterations"
     ]
    },
    {
     "data": {
      "text/plain": [
       "2.435541875787129e-16"
      ]
     },
     "execution_count": 8,
     "metadata": {},
     "output_type": "execute_result"
    }
   ],
   "source": [
    "x = CG(f,b,⋄,1e-16)\n",
    "A\\b - x |> norm"
   ]
  },
  {
   "cell_type": "markdown",
   "id": "c831a588",
   "metadata": {},
   "source": [
    "Sylvester matrix equations\n",
    "\n",
    "$$ A X + X B = C.$$"
   ]
  },
  {
   "cell_type": "code",
   "execution_count": 9,
   "id": "2f00cb59",
   "metadata": {},
   "outputs": [],
   "source": [
    "n = 400;\n",
    "C = randn(n,n);\n",
    "A = SymTridiagonal(fill(2.0,n),fill(-1.0,n-1));"
   ]
  },
  {
   "cell_type": "code",
   "execution_count": 10,
   "id": "d21ea10f",
   "metadata": {},
   "outputs": [
    {
     "name": "stdout",
     "output_type": "stream",
     "text": [
      "CG took 799 iterations"
     ]
    },
    {
     "data": {
      "text/plain": [
       "400×400 Matrix{Float64}:\n",
       "  -0.203206    2.12517    -8.43964   …    -8.19072   -5.29692   -4.80771\n",
       "  -1.4887      4.15553   -17.4654        -16.7301   -11.5032    -8.41952\n",
       "  -2.66948     5.98684   -27.2013        -25.4986   -17.3049   -11.1281\n",
       "  -4.51895     7.84807   -36.6656        -34.682    -22.3276   -12.3186\n",
       "  -6.0888      8.54373   -46.3255        -44.7099   -27.5694   -13.3644\n",
       "  -7.01315     8.89425   -55.5358    …   -55.345    -33.2818   -14.7793\n",
       "  -8.56978     8.61859   -65.0272        -66.4951   -38.1726   -18.7853\n",
       "  -9.50273     8.6348    -74.3566        -76.8063   -41.6413   -21.5991\n",
       " -11.4824      8.4712    -82.3844        -86.7284   -44.2727   -24.3129\n",
       " -13.8688      8.73292   -92.6672        -96.9561   -46.4904   -25.5631\n",
       " -17.2006      9.42394  -101.444     …  -106.342    -48.9164   -26.3324\n",
       " -20.1915      8.94612  -109.793        -115.73     -51.0029   -27.5647\n",
       " -23.5237      8.84003  -117.44         -125.497    -51.9014   -28.614\n",
       "   ⋮                                 ⋱                         \n",
       " 160.857     -21.6989    -28.8987        -69.6273    -3.64664  -15.6252\n",
       " 148.218     -20.0046    -26.3737        -61.4064    -3.95138  -14.0736\n",
       " 135.677     -17.3429    -23.8122    …   -52.1669    -4.42824  -12.9928\n",
       " 121.849     -12.0868    -19.401         -44.2474    -4.63255  -11.3343\n",
       " 108.315      -8.79006   -14.9129        -38.5435    -5.42234   -9.27257\n",
       "  93.7381     -5.79869   -10.2124        -32.472     -6.50359   -8.33027\n",
       "  78.7626     -1.98782    -7.16395       -27.1494    -8.0497    -4.45523\n",
       "  66.384       1.15703    -4.86491   …   -22.8764    -9.74178   -2.91934\n",
       "  54.1423      3.05906    -3.62587       -17.695     -9.8341    -1.67048\n",
       "  41.0795      3.71527    -1.89284       -12.719     -8.29437   -0.221818\n",
       "  28.1273      2.93924    -0.848726       -8.84831   -6.78172    0.557861\n",
       "  14.6305      2.33001     0.725713       -4.30659   -3.89999   -0.127254"
      ]
     },
     "execution_count": 10,
     "metadata": {},
     "output_type": "execute_result"
    }
   ],
   "source": [
    "X = CG(f,C,⋄,1e-16)"
   ]
  },
  {
   "cell_type": "markdown",
   "id": "a7a8aed9",
   "metadata": {},
   "source": [
    "Preconditioned CG"
   ]
  },
  {
   "cell_type": "code",
   "execution_count": 23,
   "id": "77393d3c",
   "metadata": {},
   "outputs": [
    {
     "data": {
      "text/plain": [
       "CG (generic function with 3 methods)"
      ]
     },
     "execution_count": 23,
     "metadata": {},
     "output_type": "execute_result"
    }
   ],
   "source": [
    "# function CG(f,g,b,⋄,eps::Float64)\n",
    "#    x = 0.0*b; r = b; n = 0; z = g(r);  p = z;\n",
    "#    while r⋄r > eps^2\n",
    "#         q = f(p)\n",
    "#         a = (r⋅z)/(p⋅q)\n",
    "#         x = x + a*p\n",
    "#         r_old = r\n",
    "#         z_old = z\n",
    "#         r = r - a*q\n",
    "#         z = g(r)\n",
    "#         b = (r⋄z)/(r_old⋄z_old)\n",
    "#         p = z + b*p \n",
    "#         n += 1\n",
    "#     end\n",
    "#     @printf(\"CG took %i iterations \\n\",n)\n",
    "#     x\n",
    "# end\n",
    "\n",
    "function CG(f,g,b,⋄,eps::Float64)\n",
    "   x = 0.0*b; r = b; n = 0; z = g(r);  p = z;\n",
    "   for i = 1:1e6\n",
    "        w = f(p)\n",
    "        a = (z⋅r)/(p⋅w)\n",
    "        x = x + a*p\n",
    "        r_old = r\n",
    "        z_old = z\n",
    "        r = r - a*w\n",
    "        if sqrt(r⋄r) < eps\n",
    "            break\n",
    "        end\n",
    "        z = g(r)\n",
    "        b = (z⋄r)/(z_old⋄r_old)\n",
    "        p = z + b*p \n",
    "        n += 1\n",
    "    end\n",
    "    @printf(\"CG took %i iterations \\n\",n)\n",
    "    x\n",
    "end"
   ]
  },
  {
   "cell_type": "markdown",
   "id": "2ccd3de8",
   "metadata": {},
   "source": [
    "Test in trivial case"
   ]
  },
  {
   "cell_type": "code",
   "execution_count": 24,
   "id": "24c76d2a",
   "metadata": {},
   "outputs": [],
   "source": [
    "A = SymTridiagonal(fill(4.0,10),fill(-1.0,9));\n",
    "b = randn(10);"
   ]
  },
  {
   "cell_type": "code",
   "execution_count": 25,
   "id": "0fe2fbd8",
   "metadata": {},
   "outputs": [
    {
     "data": {
      "text/plain": [
       "#17 (generic function with 1 method)"
      ]
     },
     "execution_count": 25,
     "metadata": {},
     "output_type": "execute_result"
    }
   ],
   "source": [
    "f = x -> A*x\n",
    "function ⋄(x,y)\n",
    "    x'*y\n",
    "end\n",
    "g = x -> A\\x"
   ]
  },
  {
   "cell_type": "code",
   "execution_count": 26,
   "id": "1bdaa98a",
   "metadata": {},
   "outputs": [
    {
     "name": "stdout",
     "output_type": "stream",
     "text": [
      "CG took 1 iterations \n"
     ]
    },
    {
     "data": {
      "text/plain": [
       "10-element Vector{Float64}:\n",
       " -0.17530940439850326\n",
       "  0.16185035230384456\n",
       "  0.0926521403623638\n",
       " -0.1682210290463347\n",
       " -0.18645028033736277\n",
       "  0.016388342929228934\n",
       "  0.21531958429876422\n",
       "  0.41858913617715243\n",
       "  0.4731197927977504\n",
       " -0.07262363138543405"
      ]
     },
     "execution_count": 26,
     "metadata": {},
     "output_type": "execute_result"
    }
   ],
   "source": [
    "x = CG(f,g,b,⋄,1e-16)"
   ]
  },
  {
   "cell_type": "markdown",
   "id": "72c60639",
   "metadata": {},
   "source": [
    "Back to the Sylvester equation"
   ]
  },
  {
   "cell_type": "code",
   "execution_count": 40,
   "id": "7738d123",
   "metadata": {},
   "outputs": [
    {
     "data": {
      "text/plain": [
       "0.0025"
      ]
     },
     "execution_count": 40,
     "metadata": {},
     "output_type": "execute_result"
    }
   ],
   "source": [
    "m = 399;\n",
    "h = 1/(m+1)"
   ]
  },
  {
   "cell_type": "code",
   "execution_count": 41,
   "id": "73abdd30",
   "metadata": {},
   "outputs": [],
   "source": [
    "C = spzeros(m,m);\n",
    "C[1,:] += rand(m)\n",
    "C[end,:] += rand(m)\n",
    "C[:,1] += rand(m)\n",
    "C[:,end] += rand(m)\n",
    "A = SymTridiagonal(fill(2.0,m),fill(-1.0,m-1))/h^2;\n",
    "B = SymTridiagonal(fill(4.0,m),fill(-1.0,m-1))/h^2;"
   ]
  },
  {
   "cell_type": "code",
   "execution_count": 42,
   "id": "4e7fac1f",
   "metadata": {},
   "outputs": [
    {
     "data": {
      "text/plain": [
       "#29 (generic function with 1 method)"
      ]
     },
     "execution_count": 42,
     "metadata": {},
     "output_type": "execute_result"
    }
   ],
   "source": [
    "f = X -> A*X + X*A\n",
    "function ⋄(X,Y)\n",
    "    h^2*dot(X,Y)\n",
    "end\n",
    "g = X -> (.5A+I/h^2)\\((.5A+I/h^2)\\X')'\n",
    "#g = X -> (A+2I/h^2)\\X"
   ]
  },
  {
   "cell_type": "code",
   "execution_count": 43,
   "id": "178c7fc8",
   "metadata": {},
   "outputs": [
    {
     "name": "stdout",
     "output_type": "stream",
     "text": [
      "CG took 863 iterations  1.340420 seconds (265.27 k allocations: 9.229 GiB, 13.64% gc time, 8.55% compilation time)\n"
     ]
    }
   ],
   "source": [
    "@time X = CG(f,C,⋄,h^2);"
   ]
  },
  {
   "cell_type": "code",
   "execution_count": 44,
   "id": "f0c0d32d",
   "metadata": {},
   "outputs": [
    {
     "name": "stdout",
     "output_type": "stream",
     "text": [
      "CG took 200 iterations \n",
      "  1.385950 seconds (957.44 k allocations: 2.697 GiB, 3.20% gc time, 16.61% compilation time)\n"
     ]
    }
   ],
   "source": [
    "@time X = CG(f,g,C,⋄,h^2);"
   ]
  },
  {
   "cell_type": "code",
   "execution_count": 50,
   "id": "f3987e46",
   "metadata": {},
   "outputs": [],
   "source": [
    "J = kron(A |> sparse,sparse(I,m,m)) + kron(sparse(I,m,m),A |> sparse);"
   ]
  },
  {
   "cell_type": "code",
   "execution_count": 52,
   "id": "23b53488",
   "metadata": {},
   "outputs": [
    {
     "name": "stdout",
     "output_type": "stream",
     "text": [
      "  0.138234 seconds (69 allocations: 146.706 MiB)\n"
     ]
    },
    {
     "data": {
      "text/plain": [
       "159201-element Vector{Float64}:\n",
       " 1.0965613500557657e-5\n",
       " 2.1176567059269073e-5\n",
       " 2.9199038023567547e-5\n",
       " 3.7275501401291923e-5\n",
       " 4.5799400973905554e-5\n",
       " 5.3270326412215545e-5\n",
       " 5.894448193978479e-5\n",
       " 6.679644984107112e-5\n",
       " 7.415128342133137e-5\n",
       " 8.022292114823356e-5\n",
       " 8.677453228166146e-5\n",
       " 9.231851557019298e-5\n",
       " 9.645768749640455e-5\n",
       " ⋮\n",
       " 8.948550023171487e-5\n",
       " 8.437529083380793e-5\n",
       " 7.860326187851447e-5\n",
       " 7.224515613264982e-5\n",
       " 6.66485000782262e-5\n",
       " 6.047149197624547e-5\n",
       " 5.390414165189723e-5\n",
       " 4.6119279464726354e-5\n",
       " 3.774888388268657e-5\n",
       " 2.9829173243497542e-5\n",
       " 2.143583183010199e-5\n",
       " 1.2084026985391086e-5"
      ]
     },
     "execution_count": 52,
     "metadata": {},
     "output_type": "execute_result"
    }
   ],
   "source": [
    "@time J\\rand(m^2)"
   ]
  },
  {
   "cell_type": "code",
   "execution_count": 48,
   "id": "bc5b3ffd",
   "metadata": {},
   "outputs": [],
   "source": [
    "J = kron(A |> sparse,sparse(I,m,m),sparse(I,m,m)) + kron(sparse(I,m,m),A |> sparse,sparse(I,m,m)) + kron(sparse(I,m,m),sparse(I,m,m),A |> sparse);"
   ]
  },
  {
   "cell_type": "code",
   "execution_count": null,
   "id": "ef8fdbe7",
   "metadata": {},
   "outputs": [],
   "source": [
    "@time J\\rand(m^3)"
   ]
  },
  {
   "cell_type": "code",
   "execution_count": null,
   "id": "31f44962",
   "metadata": {},
   "outputs": [],
   "source": []
  }
 ],
 "metadata": {
  "kernelspec": {
   "display_name": "Julia 1.8.0-rc3",
   "language": "julia",
   "name": "julia-1.8"
  },
  "language_info": {
   "file_extension": ".jl",
   "mimetype": "application/julia",
   "name": "julia",
   "version": "1.8.0"
  }
 },
 "nbformat": 4,
 "nbformat_minor": 5
}
