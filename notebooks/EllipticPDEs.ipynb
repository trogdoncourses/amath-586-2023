{
 "cells": [
  {
   "cell_type": "code",
   "execution_count": null,
   "id": "02e35957",
   "metadata": {},
   "outputs": [],
   "source": [
    "using LinearAlgebra, Plots, Printf, SparseArrays, IterativeSolvers, LaTeXStrings"
   ]
  },
  {
   "cell_type": "markdown",
   "id": "c415e871",
   "metadata": {},
   "source": [
    "Before we look to solve the Poisson equation on a square, let's look at plotting functionality in Julia."
   ]
  },
  {
   "cell_type": "code",
   "execution_count": null,
   "id": "d2129453",
   "metadata": {},
   "outputs": [],
   "source": [
    "h = .1; m = convert(Int64,1/h)-1;\n",
    "x = Array(h:h:1-h)\n",
    "y = x\n",
    "X = repeat(reshape(x, 1, :), length(y), 1)\n",
    "Y = repeat(reverse(y), 1, length(x));"
   ]
  },
  {
   "cell_type": "code",
   "execution_count": null,
   "id": "4a54b0f5",
   "metadata": {},
   "outputs": [],
   "source": [
    "f = (x,y) -> (x,y)\n",
    "U = map(f,X,Y);"
   ]
  },
  {
   "cell_type": "code",
   "execution_count": null,
   "id": "5d0f0a9d",
   "metadata": {},
   "outputs": [],
   "source": [
    "f = (x,y) -> x*y\n",
    "U = map(f,X,Y);"
   ]
  },
  {
   "cell_type": "code",
   "execution_count": null,
   "id": "372d5920",
   "metadata": {},
   "outputs": [],
   "source": [
    "cl = (0,1);\n",
    "width = 600\n",
    "p1 = surface(x, y, U[end:-1:1,:], zaxis = [cl[1],cl[2]], clims= cl, aspectratio = 1, xlabel = L\"x\", ylabel = L\"y\", zlabel = L\"u(x,y,t)\")\n",
    "p2 = contour(x, y, U[end:-1:1,:], clims=cl, xaxis = [0,1], yaxis = [0,1], fill = true, aspectratio = 1, xlabel = L\"x\", ylabel = L\"y\")\n",
    "plot(p1, p2, layout = 2, size = (width, .5width))"
   ]
  },
  {
   "cell_type": "markdown",
   "id": "33e33a83",
   "metadata": {},
   "source": [
    "Consider the Poisson equation\n",
    "$$\\begin{cases}\n",
    "-\\kappa_1 u_{xx}(x,y) - \\kappa_2 u_{yy}(x,y) = f(x,y), \\quad (x,y) \\in [0,1] \\times [0,1],\\\\\n",
    "    u(x,0) = g_0(x),\\\\\n",
    "    u(x,1) = g_1(x),\\\\\n",
    "    u(0,y) = h_0(y),\\\\\n",
    "    u(1,y) = h_1(y).\n",
    "\\end{cases}$$"
   ]
  },
  {
   "cell_type": "code",
   "execution_count": null,
   "id": "fd80e388",
   "metadata": {},
   "outputs": [],
   "source": [
    "h = .01; m = convert(Int64,1/h)-1;\n",
    "x = Array(h:h:1-h)\n",
    "y = x\n",
    "X = repeat(reshape(x, 1, :), length(y), 1)\n",
    "Y = repeat(reverse(y), 1, length(x));"
   ]
  },
  {
   "cell_type": "code",
   "execution_count": null,
   "id": "4a5565b1",
   "metadata": {},
   "outputs": [],
   "source": [
    "f = (x,y) -> exp(-(x-0.5)^2 - (y-0.5)^2)\n",
    "G = (x,y) -> sin(x)*cos(y)^2 + 1/(1 + x^2)"
   ]
  },
  {
   "cell_type": "code",
   "execution_count": null,
   "id": "f87a836b",
   "metadata": {},
   "outputs": [],
   "source": [
    "g0 = x -> G(x,0)\n",
    "g1 = x -> G(x,1)\n",
    "h0 = y -> G(0,y)\n",
    "h1 = y -> G(1,y)"
   ]
  },
  {
   "cell_type": "code",
   "execution_count": null,
   "id": "e21dc89a",
   "metadata": {},
   "outputs": [],
   "source": [
    "e1 = zeros(m); e1[1] = 1.0;\n",
    "em = zeros(m); em[end] = 1.0;\n",
    "κ1 = 1.0; κ2 = 2.0;"
   ]
  },
  {
   "cell_type": "code",
   "execution_count": null,
   "id": "09c89b4a",
   "metadata": {},
   "outputs": [],
   "source": [
    "A1 = κ1/h^2*SymTridiagonal(fill(2.0,m),fill(-1.0,m-1));\n",
    "A2 = κ2/h^2*SymTridiagonal(fill(2.0,m),fill(-1.0,m-1));\n",
    "F = map(G,X,Y)\n",
    "F += κ1*h^(-2)*map(h1,y)*em' + κ1*h^(-2)*map(h0,y)*e1'\n",
    "F += κ2*h^(-2)*em*map(g0,x)' + κ2*h^(-2)*e1*map(g1,x)'"
   ]
  },
  {
   "cell_type": "code",
   "execution_count": null,
   "id": "31f44962",
   "metadata": {},
   "outputs": [],
   "source": [
    "function CG(f,g,b,⋄,eps::Float64)\n",
    "   x = 0.0*b; r = b; n = 0; z = g(r);  p = z;\n",
    "   for j = 1:1e6\n",
    "        n = j\n",
    "        w = f(p)\n",
    "        a = (z⋅r)/(p⋅w)\n",
    "        x = x + a*p\n",
    "        r_old = r\n",
    "        z_old = z\n",
    "        r = r - a*w\n",
    "        if sqrt(r⋄r) < eps\n",
    "            break\n",
    "        end\n",
    "        z = g(r)\n",
    "        b = (z⋄r)/(z_old⋄r_old)\n",
    "        p = z + b*p \n",
    "    end\n",
    "    @printf(\"CG took %i iterations \\n\",n)\n",
    "    x\n",
    "end"
   ]
  },
  {
   "cell_type": "code",
   "execution_count": null,
   "id": "4208bb51",
   "metadata": {},
   "outputs": [],
   "source": [
    "f = X -> A2*X + X*A1\n",
    "function ⋄(X,Y)\n",
    "    h^2*dot(X,Y)\n",
    "end\n",
    "g = X -> (.5A2+I/h^2)\\((.5A1+I/h^2)\\X')'"
   ]
  },
  {
   "cell_type": "code",
   "execution_count": null,
   "id": "97edcfc4",
   "metadata": {},
   "outputs": [],
   "source": [
    "U = CG(f,g,F,⋄,h^2)"
   ]
  },
  {
   "cell_type": "code",
   "execution_count": null,
   "id": "27732f78",
   "metadata": {},
   "outputs": [],
   "source": [
    "*(size(U)...)"
   ]
  },
  {
   "cell_type": "code",
   "execution_count": null,
   "id": "db0fe211",
   "metadata": {},
   "outputs": [],
   "source": [
    "cl = (.8,1.3);\n",
    "width = 800\n",
    "p1 = surface(x, y, U[end:-1:1,:], zaxis = [cl[1],cl[2]], clims= cl, aspectratio = 1, xlabel = L\"x\", ylabel = L\"y\", zlabel = L\"u(x,y,t)\")\n",
    "p2 = contour(x, y, U[end:-1:1,:], clims=cl, xaxis = [0,1], yaxis = [0,1], fill = true, aspectratio = 1, xlabel = L\"x\", ylabel = L\"y\")\n",
    "plot(p1, p2, layout = 2, size = (width, .5width))"
   ]
  },
  {
   "cell_type": "markdown",
   "id": "1ed698b9",
   "metadata": {},
   "source": [
    "Using vec() and mat()"
   ]
  },
  {
   "cell_type": "code",
   "execution_count": null,
   "id": "3432403b",
   "metadata": {},
   "outputs": [],
   "source": [
    "vec = X -> vcat([X[:,i] for i = 1:m]...)\n",
    "mat = x -> reshape(x, (m,m))"
   ]
  },
  {
   "cell_type": "code",
   "execution_count": null,
   "id": "108ad579",
   "metadata": {},
   "outputs": [],
   "source": [
    "J = kron(sparse(I,m,m),A2|>sparse) + kron(A1 |> sparse, sparse(I,m,m))"
   ]
  },
  {
   "cell_type": "code",
   "execution_count": null,
   "id": "f360e2ff",
   "metadata": {},
   "outputs": [],
   "source": [
    "U - mat(J\\vec(F))"
   ]
  },
  {
   "cell_type": "markdown",
   "id": "2aec49dd",
   "metadata": {},
   "source": [
    "Ill-posed problems"
   ]
  },
  {
   "cell_type": "code",
   "execution_count": null,
   "id": "59f23cd3",
   "metadata": {},
   "outputs": [],
   "source": [
    "g = x -> cos(3*x*pi) + cos(x*pi)\n",
    "α = 0.0;\n",
    "β = 0.0;"
   ]
  },
  {
   "cell_type": "code",
   "execution_count": null,
   "id": "b0143556",
   "metadata": {},
   "outputs": [],
   "source": [
    "m = 49;\n",
    "h = 1.0/(m + 1);\n",
    "x = 0:h:1\n",
    "A = SymTridiagonal(fill(2.0,m+2),fill(-1.0,m+1)) |> sparse\n",
    "A[1,1] = 2; A[1,2] = -2\n",
    "A[end,end] = 2; A[end,end-1] = -2\n",
    "A *= h^(-2);\n",
    "b = map(g,x)\n",
    "b[1] += 2α/h\n",
    "b[end] -= 2β/h;"
   ]
  },
  {
   "cell_type": "code",
   "execution_count": null,
   "id": "019fac63",
   "metadata": {},
   "outputs": [],
   "source": [
    "eigen(A |> Array).values"
   ]
  },
  {
   "cell_type": "code",
   "execution_count": null,
   "id": "5eb07e8e",
   "metadata": {},
   "outputs": [],
   "source": [
    "F = x -> A*x\n",
    "cc = ones(m+2); cc /= norm(cc);\n",
    "G = x -> x - cc*(cc'*x)\n",
    "function ⋄(x,y)\n",
    "    x'*y\n",
    "end"
   ]
  },
  {
   "cell_type": "code",
   "execution_count": null,
   "id": "b16e9c33",
   "metadata": {},
   "outputs": [],
   "source": [
    "λ = eigen(A |> Matrix).values;\n",
    "λ[end]/λ[2]"
   ]
  },
  {
   "cell_type": "code",
   "execution_count": null,
   "id": "a7c47572",
   "metadata": {},
   "outputs": [],
   "source": [
    "G(b) - b"
   ]
  },
  {
   "cell_type": "code",
   "execution_count": null,
   "id": "311554b0",
   "metadata": {},
   "outputs": [],
   "source": [
    "U = CG(F,G,G(b),⋄,1e-10)"
   ]
  },
  {
   "cell_type": "code",
   "execution_count": null,
   "id": "31441082",
   "metadata": {},
   "outputs": [],
   "source": [
    "norm(A*U-b)"
   ]
  },
  {
   "cell_type": "code",
   "execution_count": null,
   "id": "aa094fa1",
   "metadata": {},
   "outputs": [],
   "source": [
    "plot(x,U)\n",
    "#plot!(x,cos.(3pi*x)/(9pi^2))"
   ]
  },
  {
   "cell_type": "markdown",
   "id": "609c91af",
   "metadata": {},
   "source": [
    "Another approach"
   ]
  },
  {
   "cell_type": "code",
   "execution_count": null,
   "id": "0a7ea369",
   "metadata": {},
   "outputs": [],
   "source": [
    "cc = ones(m+2); cc /= norm(cc);\n",
    "cc[1] += 1\n",
    "cc = cc/norm(cc);\n",
    "H = x -> x - 2*cc*(cc'*x)\n",
    "P = x -> H(vcat([0.0],x))\n",
    "Pt = x -> H(x)[2:end]"
   ]
  },
  {
   "cell_type": "code",
   "execution_count": null,
   "id": "15b7daa1",
   "metadata": {},
   "outputs": [],
   "source": [
    "F = x -> Pt(A*P(x))\n",
    "function ⋄(x,y)\n",
    "    x'*y\n",
    "end"
   ]
  },
  {
   "cell_type": "code",
   "execution_count": null,
   "id": "c4cd406a",
   "metadata": {},
   "outputs": [],
   "source": [
    "U = CG(F,Pt(b),⋄,1e-4)"
   ]
  },
  {
   "cell_type": "code",
   "execution_count": null,
   "id": "80bc4bed",
   "metadata": {},
   "outputs": [],
   "source": [
    "plot(x,P(U))"
   ]
  },
  {
   "cell_type": "code",
   "execution_count": null,
   "id": "4ac33f73",
   "metadata": {},
   "outputs": [],
   "source": []
  }
 ],
 "metadata": {
  "kernelspec": {
   "display_name": "Julia 1.8.0-rc3",
   "language": "julia",
   "name": "julia-1.8"
  },
  "language_info": {
   "file_extension": ".jl",
   "mimetype": "application/julia",
   "name": "julia",
   "version": "1.8.0"
  }
 },
 "nbformat": 4,
 "nbformat_minor": 5
}
