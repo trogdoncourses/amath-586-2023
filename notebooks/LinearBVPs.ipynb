{
 "cells": [
  {
   "cell_type": "markdown",
   "id": "a16565ba",
   "metadata": {},
   "source": [
    "# Steady-state BVP from heat conduction"
   ]
  },
  {
   "cell_type": "markdown",
   "id": "dfbd641a",
   "metadata": {},
   "source": [
    "Consider solving\n",
    "$$\n",
    " \\begin{cases}-\\kappa u_{xx}(x) = g(x),\\\\\n",
    " u(0) = 0,\\\\\n",
    " u(1) = 0.\\end{cases}\n",
    "$$"
   ]
  },
  {
   "cell_type": "code",
   "execution_count": null,
   "id": "a8d9bdc2",
   "metadata": {},
   "outputs": [],
   "source": [
    "using LinearAlgebra, Plots, LaTeXStrings"
   ]
  },
  {
   "cell_type": "code",
   "execution_count": null,
   "id": "25305245",
   "metadata": {},
   "outputs": [],
   "source": [
    "m = 49; # number of interior grid points\n",
    "h = 1/(m+1); # grid spacing\n",
    "κ = 1.0;\n",
    "xs = h:h:1-h"
   ]
  },
  {
   "cell_type": "code",
   "execution_count": null,
   "id": "5e3aa919",
   "metadata": {},
   "outputs": [],
   "source": [
    "A = SymTridiagonal(fill(2.0,m),fill(-1.0,m-1));\n",
    "L = A/h^2;"
   ]
  },
  {
   "cell_type": "markdown",
   "id": "ed2285ad",
   "metadata": {},
   "source": [
    "A solution to compare against.  Consider $u(x) = \\sin(k \\pi x) \\exp(-x^2)$.  Then it follows that\n",
    "\n",
    "\\begin{align*}\n",
    "    -u_{xx}(x) = g(x), \\quad g(x) = \\left[ k^2 \\pi^2 \\sin(k \\pi x) + 4 x k \\pi \\cos(k \\pi x) + ( 2 - 4x^2 ) \\sin(k \\pi x) \\right] \\exp(-x^2).\n",
    "\\end{align*}"
   ]
  },
  {
   "cell_type": "code",
   "execution_count": null,
   "id": "5f3e21a0",
   "metadata": {},
   "outputs": [],
   "source": [
    "k = 1\n",
    "g = x -> exp(-x^2)*(k^2*pi^2*sin(k*pi*x) + 4*x*k*pi*cos(k*pi*x) + (2 - 4*x^2)*sin(k*pi*x))\n",
    "u = x -> sin(k*pi*x)*exp(-x^2)"
   ]
  },
  {
   "cell_type": "code",
   "execution_count": null,
   "id": "7a4bbd54",
   "metadata": {},
   "outputs": [],
   "source": [
    "b = map(g,xs)\n",
    "U = L\\b\n",
    "utrue = map(u,xs);"
   ]
  },
  {
   "cell_type": "code",
   "execution_count": null,
   "id": "ff2ba4e9",
   "metadata": {},
   "outputs": [],
   "source": [
    "maximum(abs.(U-utrue))"
   ]
  },
  {
   "cell_type": "markdown",
   "id": "b92ac01b",
   "metadata": {},
   "source": [
    "## Setup function to test convergence"
   ]
  },
  {
   "cell_type": "code",
   "execution_count": null,
   "id": "299033f5",
   "metadata": {},
   "outputs": [],
   "source": [
    "function solve_DE(m)\n",
    "    h = 1/(m+1); # grid spacing\n",
    "    κ = 1.0;\n",
    "    xs = h:h:1-h\n",
    "    A = SymTridiagonal(fill(2.0,m),fill(-1.0,m-1));\n",
    "    L = A/h^2;\n",
    "    b = map(g,xs)\n",
    "    U = L\\b\n",
    "    utrue = map(u,xs)\n",
    "    maximum(abs.(U-utrue))\n",
    "end"
   ]
  },
  {
   "cell_type": "code",
   "execution_count": null,
   "id": "9a056743",
   "metadata": {},
   "outputs": [],
   "source": [
    "m = 10;\n",
    "errs = [solve_DE(m*2^j-1) for j = 0:1:8]\n",
    "hs = [1/(m*2^j) for j = 0:1:8]\n",
    "plot(hs,errs,yaxis=:log,xaxis=:log,label=\"Errors\",markershape=:diamond,legend =:bottomright)\n",
    "plot!(hs,2hs.^2,label=L\"y = 2h^2\",xlabel = L\"h\",ylabel = L\"\\infty\\mathrm{-Error}\",markershape=:diamond)\n",
    "    "
   ]
  },
  {
   "cell_type": "markdown",
   "id": "ff3b8617",
   "metadata": {},
   "source": [
    "## Smoothness of solutions\n",
    "\n",
    "Consider $u(x) = x(x-1) |x-1/2|^2 \\mathrm{sgn}(x-1/2)$.  Then\n",
    "\n",
    "\\begin{align*}\n",
    "    -u_{xx}(x) = g(x), \\quad g(x) = \n",
    "    \\begin{cases}\n",
    "        \\frac{5}{2} - 12 x + 12 x^2 & x > 1/2,\\\\\n",
    "        -\\frac{5}{2} + 12 x - 12 x^2 & x \\leq 1/2.\n",
    "    \\end{cases}\n",
    "\\end{align*}"
   ]
  },
  {
   "cell_type": "code",
   "execution_count": null,
   "id": "8b59ecd0",
   "metadata": {},
   "outputs": [],
   "source": [
    "k = 1\n",
    "p = x -> 5/2 - 12*x + 12*x^2\n",
    "g = x -> x > 1/2 ? -p(x) : p(x)\n",
    "u = x -> x*(x-1)*abs(x-0.5)^2*sign(x-0.5)"
   ]
  },
  {
   "cell_type": "code",
   "execution_count": null,
   "id": "f2b9cfaa",
   "metadata": {},
   "outputs": [],
   "source": [
    "function solve_DE(m)\n",
    "    h = 1/(m+1); # grid spacing\n",
    "    κ = 1.0;\n",
    "    xs = h:h:1-h\n",
    "    A = SymTridiagonal(fill(2.0,m),fill(-1.0,m-1));\n",
    "    L = A/h^2;\n",
    "    b = map(g,xs)\n",
    "    U = L\\b\n",
    "    utrue = map(u,xs)\n",
    "    maximum(abs.(U-utrue))\n",
    "end"
   ]
  },
  {
   "cell_type": "code",
   "execution_count": null,
   "id": "debe9b92",
   "metadata": {},
   "outputs": [],
   "source": [
    "m = 10;\n",
    "errs = [solve_DE(m*2^j-1) for j = 0:1:8]\n",
    "hs = [1/(m*2^j) for j = 0:1:8]\n",
    "plot(hs,errs,yaxis=:log,xaxis=:log,label=\"Errors\",markershape=:diamond,legend =:bottomright)\n",
    "plot!(hs,hs.^2,label=L\"y = h^2\",xlabel = L\"h\",ylabel = L\"\\infty\\mathrm{-Error}\",markershape=:diamond)\n",
    "    "
   ]
  },
  {
   "cell_type": "markdown",
   "id": "bf3b16c4",
   "metadata": {},
   "source": [
    "# Higher-order methods"
   ]
  },
  {
   "cell_type": "code",
   "execution_count": null,
   "id": "e32791af",
   "metadata": {},
   "outputs": [],
   "source": [
    "using FiniteDifferences, SparseArrays"
   ]
  },
  {
   "cell_type": "code",
   "execution_count": null,
   "id": "00ce3cf9",
   "metadata": {},
   "outputs": [],
   "source": [
    "method = FiniteDifferenceMethod([-2,-1, 0, 1,2], 2)\n",
    "display(method)\n",
    "interior = method.coefs |> Vector;"
   ]
  },
  {
   "cell_type": "code",
   "execution_count": null,
   "id": "d65e0843",
   "metadata": {},
   "outputs": [],
   "source": [
    "method = FiniteDifferenceMethod([-1,0,1,2,3], 2)\n",
    "display(method)\n",
    "left = method.coefs |> Vector;"
   ]
  },
  {
   "cell_type": "code",
   "execution_count": null,
   "id": "b3c5fd66",
   "metadata": {},
   "outputs": [],
   "source": [
    "method = FiniteDifferenceMethod([-3,-2,-1,0,1], 2)\n",
    "display(method)\n",
    "right = method.coefs |> Vector;"
   ]
  },
  {
   "cell_type": "code",
   "execution_count": null,
   "id": "b9ab74fc",
   "metadata": {},
   "outputs": [],
   "source": [
    "m = 49; # number of interior grid points\n",
    "h = 1/(m+1); # grid spacing\n",
    "κ = 1.0;\n",
    "xs = h:h:1-h"
   ]
  },
  {
   "cell_type": "code",
   "execution_count": null,
   "id": "5b11244f",
   "metadata": {},
   "outputs": [],
   "source": [
    "L = spzeros(m,m);\n",
    "L[1,1:4] = left[2:end]\n",
    "L[2,1:4] = interior[2:end]\n",
    "L[end,end-3:end] = right[1:end-1]\n",
    "L[end-1,end-3:end] = interior[1:end-1]\n",
    "for i = 3:m-2\n",
    "    L[i,i-2:i+2] = interior\n",
    "end\n",
    "L *= -κ/h^2"
   ]
  },
  {
   "cell_type": "code",
   "execution_count": null,
   "id": "f51e5afd",
   "metadata": {},
   "outputs": [],
   "source": [
    "k = 1\n",
    "g = x -> exp(-x^2)*(k^2*pi^2*sin(k*pi*x) + 4*x*k*pi*cos(k*pi*x) + (2 - 4*x^2)*sin(k*pi*x))\n",
    "u = x -> sin(k*pi*x)*exp(-x^2)"
   ]
  },
  {
   "cell_type": "code",
   "execution_count": null,
   "id": "31386c18",
   "metadata": {},
   "outputs": [],
   "source": [
    "b = map(g,xs)\n",
    "U = L\\b\n",
    "utrue = map(u,xs);"
   ]
  },
  {
   "cell_type": "code",
   "execution_count": null,
   "id": "ae88b5e6",
   "metadata": {},
   "outputs": [],
   "source": [
    "U - utrue"
   ]
  },
  {
   "cell_type": "code",
   "execution_count": null,
   "id": "531e9c85",
   "metadata": {},
   "outputs": [],
   "source": [
    "function solve_DE_HO(m)\n",
    "    h = 1/(m+1); # grid spacing\n",
    "    κ = 1.0;\n",
    "    xs = h:h:1-h\n",
    "    \n",
    "    L = spzeros(m,m);\n",
    "    L[1,1:4] = left[2:end]\n",
    "    L[2,1:4] = interior[2:end]\n",
    "    L[end,end-3:end] = right[1:end-1]\n",
    "    L[end-1,end-3:end] = interior[1:end-1]\n",
    "    for i = 3:m-2\n",
    "        L[i,i-2:i+2] = interior\n",
    "    end\n",
    "    L *= -κ/h^2\n",
    "    b = map(g,xs)\n",
    "    U = L\\b\n",
    "    utrue = map(u,xs)\n",
    "    maximum(abs.(U-utrue))\n",
    "end"
   ]
  },
  {
   "cell_type": "code",
   "execution_count": null,
   "id": "36102204",
   "metadata": {},
   "outputs": [],
   "source": [
    "m = 10;\n",
    "errs = [solve_DE_HO(m*2^j-1) for j = 0:1:8]\n",
    "hs = [1/(m*2^j) for j = 0:1:8]\n",
    "plot(hs,errs,yaxis=:log,xaxis=:log,label=\"Errors\",markershape=:diamond,legend =:bottomright)\n",
    "plot!(hs,hs.^5,label=L\"y = h^5\",xlabel = L\"h\",ylabel = L\"\\infty\\mathrm{-Error}\",markershape=:diamond)"
   ]
  },
  {
   "cell_type": "code",
   "execution_count": null,
   "id": "b8616bf3",
   "metadata": {},
   "outputs": [],
   "source": []
  }
 ],
 "metadata": {
  "kernelspec": {
   "display_name": "Julia 1.8.0-rc3",
   "language": "julia",
   "name": "julia-1.8"
  },
  "language_info": {
   "file_extension": ".jl",
   "mimetype": "application/julia",
   "name": "julia",
   "version": "1.8.0"
  }
 },
 "nbformat": 4,
 "nbformat_minor": 5
}
