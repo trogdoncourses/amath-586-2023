{
 "cells": [
  {
   "cell_type": "markdown",
   "id": "3df690dc",
   "metadata": {},
   "source": [
    "We look to compute traveling wave solutions of\n",
    "\n",
    "\\begin{align*}\n",
    "u_t + 6 uu_x + u_{xxx} = 0.\n",
    "\\end{align*}\n",
    "\n",
    "We have seen that for $c \\in \\mathbb R$, we should consider the boundary-value problem\n",
    "\n",
    "\\begin{align*}\n",
    " \\begin{cases}\n",
    " c w'(x) + \\sigma w(x) w'(x) + e^{-(\\sigma-1)} w'''(x) = 0,\\\\\n",
    " w(0) = w(L),\\\\\n",
    " w'(0) = w'(L),\\\\\n",
    " w''(0) = w''(L).\n",
    " \\end{cases}\n",
    "\\end{align*}\n",
    "\n",
    "We are interested in the case where $\\sigma = 1$.  But it will be convenient to use this as a continuation parameter."
   ]
  },
  {
   "cell_type": "markdown",
   "id": "55e55865",
   "metadata": {},
   "source": [
    "Instead of considering the periodic boundary conditions, we add appropriate conditions to make a well-posed BVP when $\\sigma = 0$: $L = 1$, $c = k^2 \\pi^2$:"
   ]
  },
  {
   "cell_type": "markdown",
   "id": "3635141d",
   "metadata": {},
   "source": [
    "\\begin{align*}\n",
    " \\begin{cases}\n",
    " c w'(x) + w'''(x) = 0,\\\\\n",
    " w(0) = 0,\\\\\n",
    " w(L) = 0,\\\\\n",
    "     w'(L) = \\beta.\n",
    " \\end{cases}\n",
    "\\end{align*}"
   ]
  },
  {
   "cell_type": "code",
   "execution_count": 1,
   "id": "cf5cc4c5",
   "metadata": {},
   "outputs": [],
   "source": [
    "using LinearAlgebra, SparseArrays, FiniteDifferences, Plots, Printf"
   ]
  },
  {
   "cell_type": "code",
   "execution_count": 2,
   "id": "534660e0",
   "metadata": {},
   "outputs": [
    {
     "data": {
      "text/plain": [
       "0.005:0.005:0.995"
      ]
     },
     "execution_count": 2,
     "metadata": {},
     "output_type": "execute_result"
    }
   ],
   "source": [
    "m = 199;\n",
    "L = 1;\n",
    "k = 3\n",
    "β = k*pi*(-1)^k\n",
    "c = k^2*pi^2\n",
    "h = L/(m+1); #grid spacing depends on interval length\n",
    "xs = h:h:L-h"
   ]
  },
  {
   "cell_type": "code",
   "execution_count": 3,
   "id": "cfbffcce",
   "metadata": {},
   "outputs": [
    {
     "data": {
      "text/plain": [
       "#1 (generic function with 1 method)"
      ]
     },
     "execution_count": 3,
     "metadata": {},
     "output_type": "execute_result"
    }
   ],
   "source": [
    "u = x -> sin.(k*pi*x)"
   ]
  },
  {
   "cell_type": "code",
   "execution_count": 4,
   "id": "2b1ccec0",
   "metadata": {},
   "outputs": [
    {
     "data": {
      "text/plain": [
       "FiniteDifferenceMethod:\n",
       "  order of method:       3\n",
       "  order of derivative:   1\n",
       "  grid:                  [-1, 0, 1]\n",
       "  coefficients:          [-0.5, 0.0, 0.5]\n"
      ]
     },
     "metadata": {},
     "output_type": "display_data"
    },
    {
     "data": {
      "text/plain": [
       "3-element Vector{Float64}:\n",
       " -0.5\n",
       "  0.0\n",
       "  0.5"
      ]
     },
     "execution_count": 4,
     "metadata": {},
     "output_type": "execute_result"
    }
   ],
   "source": [
    "method = FiniteDifferenceMethod([-1, 0, 1], 1)\n",
    "display(method)\n",
    "first = method.coefs |> Vector"
   ]
  },
  {
   "cell_type": "code",
   "execution_count": 5,
   "id": "4adce98c",
   "metadata": {},
   "outputs": [
    {
     "data": {
      "text/plain": [
       "FiniteDifferenceMethod:\n",
       "  order of method:       5\n",
       "  order of derivative:   3\n",
       "  grid:                  [-1, 0, 1, 2, 3]\n",
       "  coefficients:          [-1.5, 5.0, -6.0, 3.0, -0.5]\n"
      ]
     },
     "metadata": {},
     "output_type": "display_data"
    },
    {
     "data": {
      "text/plain": [
       "5-element Vector{Float64}:\n",
       " -1.5\n",
       "  5.0\n",
       " -6.0\n",
       "  3.0\n",
       " -0.5"
      ]
     },
     "execution_count": 5,
     "metadata": {},
     "output_type": "execute_result"
    }
   ],
   "source": [
    "method = FiniteDifferenceMethod([-1, 0, 1, 2, 3], 3)\n",
    "display(method)\n",
    "left = method.coefs |> Vector"
   ]
  },
  {
   "cell_type": "code",
   "execution_count": 6,
   "id": "6b0c9608",
   "metadata": {},
   "outputs": [
    {
     "data": {
      "text/plain": [
       "FiniteDifferenceMethod:\n",
       "  order of method:       5\n",
       "  order of derivative:   3\n",
       "  grid:                  [-2, -1, 0, 1, 2]\n",
       "  coefficients:          [-0.5, 1.0, 0.0, -1.0, 0.5]\n"
      ]
     },
     "metadata": {},
     "output_type": "display_data"
    },
    {
     "data": {
      "text/plain": [
       "5-element Vector{Float64}:\n",
       " -0.5\n",
       "  1.0\n",
       "  0.0\n",
       " -1.0\n",
       "  0.5"
      ]
     },
     "execution_count": 6,
     "metadata": {},
     "output_type": "execute_result"
    }
   ],
   "source": [
    "method = FiniteDifferenceMethod([-2,-1, 0, 1, 2], 3)\n",
    "display(method)\n",
    "third = method.coefs |> Vector"
   ]
  },
  {
   "cell_type": "code",
   "execution_count": 7,
   "id": "b315ea95",
   "metadata": {},
   "outputs": [
    {
     "data": {
      "text/plain": [
       "FiniteDifferenceMethod:\n",
       "  order of method:       4\n",
       "  order of derivative:   1\n",
       "  grid:                  [-2, -1, 0, 1]\n",
       "  coefficients:          [0.16666666666666666, -1.0, 0.5, 0.3333333333333333]\n"
      ]
     },
     "metadata": {},
     "output_type": "display_data"
    },
    {
     "data": {
      "text/plain": [
       "4-element Vector{Float64}:\n",
       "  0.16666666666666666\n",
       " -1.0\n",
       "  0.5\n",
       "  0.3333333333333333"
      ]
     },
     "execution_count": 7,
     "metadata": {},
     "output_type": "execute_result"
    }
   ],
   "source": [
    "method = FiniteDifferenceMethod([-2,-1, 0,1], 1)\n",
    "display(method)\n",
    "right = method.coefs |> Vector"
   ]
  },
  {
   "cell_type": "code",
   "execution_count": 8,
   "id": "e7dfdf14",
   "metadata": {},
   "outputs": [],
   "source": [
    "bD = zeros(m)\n",
    "D = Tridiagonal(fill(-1.0,m-1), fill(0.0,m), fill(1.0,m-1));\n",
    "D = sparse(D);\n",
    "D *= 0.5/h;"
   ]
  },
  {
   "cell_type": "code",
   "execution_count": null,
   "id": "9b25f735",
   "metadata": {},
   "outputs": [],
   "source": [
    "bD3 = zeros(m)\n",
    "D3 = spzeros(m,m)\n",
    "D3[1,1:4] = left[2:end]\n",
    "D3[2,1:4] = third[2:end]\n",
    "D3[end-1,end-3:end] = third[1:end-1]\n",
    "D3[end,end-2:end] = third[1:end-2]\n",
    "for i = 3:m-2\n",
    "   D3[i,i-2:i+2] = third\n",
    "end\n",
    "vec = -right[1:2]/right[end]\n",
    "D3[end,end-1:end] += 0.5*vec\n",
    "D3 *= 1/h^3\n",
    "\n",
    "bD3[end] -= 0.5*β*h/right[end]\n",
    "bD3 *= 1/h^3;"
   ]
  },
  {
   "cell_type": "code",
   "execution_count": null,
   "id": "eebfdf91",
   "metadata": {},
   "outputs": [],
   "source": [
    "D3[1:5,1:5]*(4h^3) |> Array"
   ]
  },
  {
   "cell_type": "code",
   "execution_count": null,
   "id": "b71f9fd8",
   "metadata": {},
   "outputs": [],
   "source": [
    "D3[end-5:end,end-5:end]*(4h^3)"
   ]
  },
  {
   "cell_type": "code",
   "execution_count": null,
   "id": "53e8b8de",
   "metadata": {},
   "outputs": [],
   "source": [
    "U = (c*D + D3)\\(c*bD + bD3);\n",
    "plot(xs,U)\n",
    "plot!(xs,u(xs))"
   ]
  },
  {
   "cell_type": "code",
   "execution_count": null,
   "id": "e137bf6e",
   "metadata": {},
   "outputs": [],
   "source": [
    "maximum(abs.(U - u(xs)))"
   ]
  },
  {
   "cell_type": "code",
   "execution_count": null,
   "id": "dbff281e",
   "metadata": {},
   "outputs": [],
   "source": [
    "β*3/2*h^(-2)"
   ]
  },
  {
   "cell_type": "markdown",
   "id": "a40d2fd5",
   "metadata": {},
   "source": [
    "# Continuation in the nonlinear case"
   ]
  },
  {
   "cell_type": "markdown",
   "id": "7abbcd6c",
   "metadata": {},
   "source": [
    "We use $\\circ$ to denote entrywise vector multiplication.  Our approximation of\n",
    "\n",
    "$$ W \\mapsto F(W) := c W'(x) + \\sigma W(x) W'(x) + W'''(x) $$\n",
    "\n",
    "in vector form is given by\n",
    "\n",
    "$$ \\vec W \\mapsto  F_m(\\vec W):= c D \\vec W +  (D \\vec W) \\circ \\vec W + D_3 \\vec W.$$"
   ]
  },
  {
   "cell_type": "code",
   "execution_count": null,
   "id": "b497bdf7",
   "metadata": {},
   "outputs": [],
   "source": [
    "Fm = (W,σ) -> c*(D*W) + σ*(D*W).*W + exp(-σ+1)*(D3*W) - (c*bD + bD3)"
   ]
  },
  {
   "cell_type": "markdown",
   "id": "b7f192dd",
   "metadata": {},
   "source": [
    "Since we are solving a nonlinear problem, we need to do some sort of root-finding.  We will use Newton's method, and therefore, we need to compute the Jacobian.\n"
   ]
  },
  {
   "cell_type": "markdown",
   "id": "d3a3ffb9",
   "metadata": {},
   "source": [
    "$$\n",
    "  D_{\\vec W} F_m(\\vec W) = \\frac{c}{h} D + \\frac{1}{h} \\mathrm{diag}(D \\vec W) + \\frac{1}{h} \\mathrm{diag}(\\vec W)D + \\frac{1}{h^3} D_3 .\n",
    "$$"
   ]
  },
  {
   "cell_type": "code",
   "execution_count": null,
   "id": "eccfd603",
   "metadata": {},
   "outputs": [],
   "source": [
    "DFm = (W,σ) -> c*D + exp(-σ+1)*D3 + σ*Diagonal(D*W) + σ*Diagonal(W)*D"
   ]
  },
  {
   "cell_type": "code",
   "execution_count": null,
   "id": "f4aec764",
   "metadata": {},
   "outputs": [],
   "source": [
    "W = zeros(m);\n",
    "σ = 0.0;"
   ]
  },
  {
   "cell_type": "code",
   "execution_count": null,
   "id": "1becdf6d",
   "metadata": {},
   "outputs": [],
   "source": [
    "W = W - DFm(W,σ)\\Fm(W,σ);\n",
    "plot(xs,W)"
   ]
  },
  {
   "cell_type": "code",
   "execution_count": null,
   "id": "77682850",
   "metadata": {},
   "outputs": [],
   "source": [
    "σ_step = 4.0\n",
    "σ = 0\n",
    "W = zeros(m);\n",
    "p = plot()\n",
    "for σ = 0:σ_step:4\n",
    "    count = 0\n",
    "    update = fill(100,m)\n",
    "    while maximum(abs.(update)) > 1e-10\n",
    "        count += 1\n",
    "        update = DFm(W,σ)\\Fm(W,σ)\n",
    "        W = W - update\n",
    "        #print(maximum(abs.(update)))\n",
    "        if count == 300\n",
    "            print(\"No convergence: \")\n",
    "            println(σ)\n",
    "            break\n",
    "        end\n",
    "    end\n",
    "    plot!(xs,W,legend=:outerright, label = string(σ))\n",
    "end"
   ]
  },
  {
   "cell_type": "code",
   "execution_count": null,
   "id": "50a200a0",
   "metadata": {},
   "outputs": [],
   "source": [
    "p"
   ]
  },
  {
   "cell_type": "code",
   "execution_count": null,
   "id": "f3653985",
   "metadata": {},
   "outputs": [],
   "source": [
    "σ_step = .1\n",
    "σ = 0\n",
    "W = zeros(m);\n",
    "p = plot()\n",
    "for σ = 0:σ_step:4.0\n",
    "    count = 0\n",
    "    update = fill(100,m)\n",
    "    while maximum(abs.(update)) > 1e-10\n",
    "        count += 1\n",
    "        update = DFm(W,σ)\\Fm(W,σ)\n",
    "        W = W - update\n",
    "        #print(maximum(abs.(update)))\n",
    "        if count == 10\n",
    "            @printf(\"No convergence: %f when σ = %1.2f \\n\",norm(update),σ)\n",
    "            break\n",
    "        end\n",
    "    end\n",
    "    if mod(10σ,10) ≈ 0.0\n",
    "        plot!(xs,W,legend=:outerright, label = string(σ))\n",
    "    end\n",
    "end"
   ]
  },
  {
   "cell_type": "code",
   "execution_count": null,
   "id": "2b069427",
   "metadata": {},
   "outputs": [],
   "source": [
    "p"
   ]
  },
  {
   "cell_type": "code",
   "execution_count": null,
   "id": "480aa079",
   "metadata": {},
   "outputs": [],
   "source": []
  }
 ],
 "metadata": {
  "kernelspec": {
   "display_name": "Julia 1.8.0-rc3",
   "language": "julia",
   "name": "julia-1.8"
  },
  "language_info": {
   "file_extension": ".jl",
   "mimetype": "application/julia",
   "name": "julia",
   "version": "1.8.0"
  }
 },
 "nbformat": 4,
 "nbformat_minor": 5
}
